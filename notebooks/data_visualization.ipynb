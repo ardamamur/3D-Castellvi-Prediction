{
 "cells": [
  {
   "cell_type": "code",
   "execution_count": null,
   "metadata": {},
   "outputs": [],
   "source": [
    "from BIDS import BIDS_Global_info, BIDS_Family"
   ]
  },
  {
   "cell_type": "code",
   "execution_count": null,
   "metadata": {},
   "outputs": [],
   "source": [
    "#Lets import the class that represent a whole data set.\n",
    "from BIDS import BIDS_Global_info, BIDS_Family\n",
    "# You can parse multiple datasets and select what parent folder are read (e.g. rawdata, derivatives)\n",
    "bids_global_object = BIDS_Global_info(['/home/daniel/Documents/Uni/practical-sose23/castellvi/3D-Castellvi-Prediction/data/dataset-verse-combined'],['rawdata',\"derivatives\"], additional_key = [\"ct\", \"subreg\", \"cortex\"], verbose=True)\n",
    "#The Parser will inform you about every non standard files. To add additional key add them to additional_key list, so you don't get the msg that this is not a valid key\n",
    "\n",
    "from BIDS.snapshot2D import create_snapshot,Snapshot_Frame,Visualization_Type,Image_Modes\n",
    "from pathlib import Path\n",
    "from IPython.display import Image"
   ]
  }
 ],
 "metadata": {
  "kernelspec": {
   "display_name": "Python castellvi",
   "language": "python",
   "name": "castellvi"
  },
  "language_info": {
   "codemirror_mode": {
    "name": "ipython",
    "version": 3
   },
   "file_extension": ".py",
   "mimetype": "text/x-python",
   "name": "python",
   "nbconvert_exporter": "python",
   "pygments_lexer": "ipython3",
   "version": "3.9.7"
  }
 },
 "nbformat": 4,
 "nbformat_minor": 2
}
