{
 "cells": [
  {
   "cell_type": "code",
   "execution_count": 40,
   "metadata": {},
   "outputs": [],
   "source": [
    "import numpy as np\n",
    "import pandas as pd\n",
    "import os\n",
    "import nibabel as nib\n",
    "import matplotlib.pyplot as plt\n",
    "import numpy as np\n",
    "import pandas as pd\n",
    "import matplotlib.pyplot as plt\n",
    "import plotly.express as px\n",
    "from plotly.offline import init_notebook_mode, iplot, plot\n",
    "from tqdm.notebook import tqdm\n",
    "from pathlib import Path\n",
    "from collections import Counter\n",
    "\n",
    "tqdm.pandas()"
   ]
  },
  {
   "attachments": {},
   "cell_type": "markdown",
   "metadata": {},
   "source": [
    "## Vertebal Column"
   ]
  },
  {
   "attachments": {},
   "cell_type": "markdown",
   "metadata": {},
   "source": [
    "The spine is made up of bones, muscles, tendons, nerves, and other tissues that reach from the base of the skull near the spinal cord (clivus) to the coccyx (tailbone). The vertebrae (back bones) of the spine include the cervical spine (C1-C7), thoracic spine (T1-T12), lumbar spine (L1-L5), sacral spine (S1-S5), and the tailbone. Each vertebra is separated by a disc. The vertebrae surround and protect the spinal cord."
   ]
  },
  {
   "cell_type": "code",
   "execution_count": 45,
   "metadata": {},
   "outputs": [
    {
     "data": {
      "text/html": [
       "<center><img src='https://upload.wikimedia.org/wikipedia/commons/thumb/5/54/Gray_111_-_Vertebral_column-coloured.png/174px-Gray_111_-_Vertebral_column-coloured.png'></center>"
      ],
      "text/plain": [
       "<IPython.core.display.HTML object>"
      ]
     },
     "metadata": {},
     "output_type": "display_data"
    }
   ],
   "source": [
    "from IPython.display import display, HTML\n",
    "display(HTML(\"<center><img src='https://upload.wikimedia.org/wikipedia/commons/thumb/5/54/Gray_111_-_Vertebral_column-coloured.png/174px-Gray_111_-_Vertebral_column-coloured.png'></center>\"))\n"
   ]
  },
  {
   "attachments": {},
   "cell_type": "markdown",
   "metadata": {},
   "source": [
    "## Lumbar Vertebra\n",
    "The lumbar vertebrae are, in human anatomy, the five vertebrae between the rib cage and the pelvis. They are the largest segments of the vertebral column and are characterized by the absence of the foramen transversarium within the transverse process (since it is only found in the cervical region) and by the absence of facets on the sides of the body (as found only in the thoracic region). They are designated L1 to L5, starting at the top. The lumbar vertebrae help support the weight of the body, and permit movement."
   ]
  },
  {
   "attachments": {},
   "cell_type": "markdown",
   "metadata": {},
   "source": [
    "## Tests and Imaging\n",
    "Computed tomography (CT) scan: This scan uses X-rays and computers to produce images that are very thin “slices” of the area under examination. A CT scan can show the shape and size of your spinal canal, its contents and the bone around it. It helps diagnose bone spurs, osteophytes, bone fusion and bone destruction from infection or tumor."
   ]
  },
  {
   "attachments": {},
   "cell_type": "markdown",
   "metadata": {},
   "source": [
    "## Dataset - VerSe\n",
    "Spine or vertebral segmentation is a crucial step in all applications regarding automated quantification of spinal morphology and pathology. With the advent of deep learning, for such a task on computed tomography (CT) scans, a big and varied data is a primary sought-after resource. However, a large-scale, public dataset is currently unavailable.\n",
    "\n",
    "We believe VerSe can help here. VerSe is a large scale, multi-detector, multi-site, CT spine dataset consisting of 374 scans from 355 patients. The challenge was held in two iterations in conjunction with MICCAI 2019 and 2020. The tasks evaluated for include: vertebral labelling and segmentation."
   ]
  },
  {
   "cell_type": "code",
   "execution_count": 47,
   "metadata": {},
   "outputs": [
    {
     "data": {
      "text/html": [
       "<center><img src='https://github.com/anjany/verse/blob/main/assets/dataset_snapshot.png?raw=true'></center>"
      ],
      "text/plain": [
       "<IPython.core.display.HTML object>"
      ]
     },
     "metadata": {},
     "output_type": "display_data"
    }
   ],
   "source": [
    "from IPython.display import display, HTML\n",
    "display(HTML(\"<center><img src='https://github.com/anjany/verse/blob/main/assets/dataset_snapshot.png?raw=true'></center>\"))\n"
   ]
  },
  {
   "attachments": {},
   "cell_type": "markdown",
   "metadata": {},
   "source": [
    "## Uderstanding Derivatives\n",
    "1) seg-subreg-ctd.json\n",
    "2) seg-subreg-mask.nii.gz\n",
    "3) seg-total-mask.nii.gz\n",
    "4) seg-vertsac-ctd.json\n",
    "5) seg-vertsac-mask.nii.gz"
   ]
  },
  {
   "cell_type": "code",
   "execution_count": 48,
   "metadata": {},
   "outputs": [],
   "source": [
    "v_idx2name = {\n",
    "     1: \"C1\",     2: \"C2\",     3: \"C3\",     4: \"C4\",     5: \"C5\",     6: \"C6\",     7: \"C7\", \n",
    "     8: \"T1\",     9: \"T2\",    10: \"T3\",    11: \"T4\",    12: \"T5\",    13: \"T6\",    14: \"T7\",    15: \"T8\",    16: \"T9\",    17: \"T10\",   18: \"T11\",   19: \"T12\", 28: \"T13\",\n",
    "    20: \"L1\",    21: \"L2\",    22: \"L3\",    23: \"L4\",    24: \"L5\",    25: \"L6\",    \n",
    "    26: \"S1\",    29: \"S2\",    30: \"S3\",    31: \"S4\",    32: \"S5\",    33: \"S6\",\n",
    "    27: \"Cocc\",\n",
    "}"
   ]
  },
  {
   "cell_type": "code",
   "execution_count": 81,
   "metadata": {},
   "outputs": [],
   "source": [
    "master_df = pd.read_excel('VerSe_masterlist.xlsx')\n",
    "master_df\n",
    "master_df = master_df[['Id', 'Full_Id', 'Castellvi', '2a/3a Side',\t'Sacrum Seg', 'Last_L']]"
   ]
  },
  {
   "cell_type": "code",
   "execution_count": 82,
   "metadata": {},
   "outputs": [
    {
     "data": {
      "text/html": [
       "<div>\n",
       "<style scoped>\n",
       "    .dataframe tbody tr th:only-of-type {\n",
       "        vertical-align: middle;\n",
       "    }\n",
       "\n",
       "    .dataframe tbody tr th {\n",
       "        vertical-align: top;\n",
       "    }\n",
       "\n",
       "    .dataframe thead th {\n",
       "        text-align: right;\n",
       "    }\n",
       "</style>\n",
       "<table border=\"1\" class=\"dataframe\">\n",
       "  <thead>\n",
       "    <tr style=\"text-align: right;\">\n",
       "      <th></th>\n",
       "      <th>Id</th>\n",
       "      <th>Full_Id</th>\n",
       "      <th>Castellvi</th>\n",
       "      <th>2a/3a Side</th>\n",
       "      <th>Sacrum Seg</th>\n",
       "      <th>Last_L</th>\n",
       "    </tr>\n",
       "  </thead>\n",
       "  <tbody>\n",
       "    <tr>\n",
       "      <th>0</th>\n",
       "      <td>4</td>\n",
       "      <td>sub-verse004</td>\n",
       "      <td>0</td>\n",
       "      <td>NaN</td>\n",
       "      <td>1.0</td>\n",
       "      <td>L5</td>\n",
       "    </tr>\n",
       "    <tr>\n",
       "      <th>1</th>\n",
       "      <td>5</td>\n",
       "      <td>sub-verse005</td>\n",
       "      <td>0</td>\n",
       "      <td>NaN</td>\n",
       "      <td>1.0</td>\n",
       "      <td>L5</td>\n",
       "    </tr>\n",
       "    <tr>\n",
       "      <th>2</th>\n",
       "      <td>6</td>\n",
       "      <td>sub-verse006</td>\n",
       "      <td>0</td>\n",
       "      <td>NaN</td>\n",
       "      <td>1.0</td>\n",
       "      <td>L5</td>\n",
       "    </tr>\n",
       "    <tr>\n",
       "      <th>3</th>\n",
       "      <td>7</td>\n",
       "      <td>NaN</td>\n",
       "      <td>NaN</td>\n",
       "      <td>NaN</td>\n",
       "      <td>NaN</td>\n",
       "      <td>NaN</td>\n",
       "    </tr>\n",
       "    <tr>\n",
       "      <th>4</th>\n",
       "      <td>8</td>\n",
       "      <td>sub-verse008</td>\n",
       "      <td>0</td>\n",
       "      <td>NaN</td>\n",
       "      <td>1.0</td>\n",
       "      <td>L5</td>\n",
       "    </tr>\n",
       "  </tbody>\n",
       "</table>\n",
       "</div>"
      ],
      "text/plain": [
       "   Id       Full_Id Castellvi 2a/3a Side  Sacrum Seg Last_L\n",
       "0   4  sub-verse004         0        NaN         1.0     L5\n",
       "1   5  sub-verse005         0        NaN         1.0     L5\n",
       "2   6  sub-verse006         0        NaN         1.0     L5\n",
       "3   7           NaN       NaN        NaN         NaN    NaN\n",
       "4   8  sub-verse008         0        NaN         1.0     L5"
      ]
     },
     "execution_count": 82,
     "metadata": {},
     "output_type": "execute_result"
    }
   ],
   "source": [
    "master_df.head()"
   ]
  },
  {
   "cell_type": "code",
   "execution_count": 85,
   "metadata": {},
   "outputs": [
    {
     "name": "stdout",
     "output_type": "stream",
     "text": [
      "missing image derivatives:  40\n"
     ]
    }
   ],
   "source": [
    "print('missing image derivatives: ', master_df.Full_Id.isna().sum())"
   ]
  },
  {
   "cell_type": "code",
   "execution_count": 86,
   "metadata": {},
   "outputs": [],
   "source": [
    "master_df = master_df.dropna(subset=['Full_Id'])"
   ]
  },
  {
   "cell_type": "code",
   "execution_count": 87,
   "metadata": {},
   "outputs": [
    {
     "data": {
      "text/html": [
       "<div>\n",
       "<style scoped>\n",
       "    .dataframe tbody tr th:only-of-type {\n",
       "        vertical-align: middle;\n",
       "    }\n",
       "\n",
       "    .dataframe tbody tr th {\n",
       "        vertical-align: top;\n",
       "    }\n",
       "\n",
       "    .dataframe thead th {\n",
       "        text-align: right;\n",
       "    }\n",
       "</style>\n",
       "<table border=\"1\" class=\"dataframe\">\n",
       "  <thead>\n",
       "    <tr style=\"text-align: right;\">\n",
       "      <th></th>\n",
       "      <th>Id</th>\n",
       "      <th>Full_Id</th>\n",
       "      <th>Castellvi</th>\n",
       "      <th>2a/3a Side</th>\n",
       "      <th>Sacrum Seg</th>\n",
       "      <th>Last_L</th>\n",
       "    </tr>\n",
       "  </thead>\n",
       "  <tbody>\n",
       "    <tr>\n",
       "      <th>0</th>\n",
       "      <td>4</td>\n",
       "      <td>sub-verse004</td>\n",
       "      <td>0</td>\n",
       "      <td>NaN</td>\n",
       "      <td>1.0</td>\n",
       "      <td>L5</td>\n",
       "    </tr>\n",
       "    <tr>\n",
       "      <th>1</th>\n",
       "      <td>5</td>\n",
       "      <td>sub-verse005</td>\n",
       "      <td>0</td>\n",
       "      <td>NaN</td>\n",
       "      <td>1.0</td>\n",
       "      <td>L5</td>\n",
       "    </tr>\n",
       "    <tr>\n",
       "      <th>2</th>\n",
       "      <td>6</td>\n",
       "      <td>sub-verse006</td>\n",
       "      <td>0</td>\n",
       "      <td>NaN</td>\n",
       "      <td>1.0</td>\n",
       "      <td>L5</td>\n",
       "    </tr>\n",
       "    <tr>\n",
       "      <th>4</th>\n",
       "      <td>8</td>\n",
       "      <td>sub-verse008</td>\n",
       "      <td>0</td>\n",
       "      <td>NaN</td>\n",
       "      <td>1.0</td>\n",
       "      <td>L5</td>\n",
       "    </tr>\n",
       "    <tr>\n",
       "      <th>5</th>\n",
       "      <td>9</td>\n",
       "      <td>sub-verse009</td>\n",
       "      <td>0</td>\n",
       "      <td>NaN</td>\n",
       "      <td>1.0</td>\n",
       "      <td>L5</td>\n",
       "    </tr>\n",
       "    <tr>\n",
       "      <th>...</th>\n",
       "      <td>...</td>\n",
       "      <td>...</td>\n",
       "      <td>...</td>\n",
       "      <td>...</td>\n",
       "      <td>...</td>\n",
       "      <td>...</td>\n",
       "    </tr>\n",
       "    <tr>\n",
       "      <th>320</th>\n",
       "      <td>824</td>\n",
       "      <td>sub-verse824</td>\n",
       "      <td>0</td>\n",
       "      <td>NaN</td>\n",
       "      <td>1.0</td>\n",
       "      <td>L5</td>\n",
       "    </tr>\n",
       "    <tr>\n",
       "      <th>321</th>\n",
       "      <td>825</td>\n",
       "      <td>sub-verse825</td>\n",
       "      <td>0</td>\n",
       "      <td>NaN</td>\n",
       "      <td>1.0</td>\n",
       "      <td>L5</td>\n",
       "    </tr>\n",
       "    <tr>\n",
       "      <th>322</th>\n",
       "      <td>826</td>\n",
       "      <td>sub-verse826</td>\n",
       "      <td>0</td>\n",
       "      <td>NaN</td>\n",
       "      <td>1.0</td>\n",
       "      <td>L5</td>\n",
       "    </tr>\n",
       "    <tr>\n",
       "      <th>323</th>\n",
       "      <td>833</td>\n",
       "      <td>sub-verse833</td>\n",
       "      <td>2b</td>\n",
       "      <td>NaN</td>\n",
       "      <td>1.0</td>\n",
       "      <td>L5</td>\n",
       "    </tr>\n",
       "    <tr>\n",
       "      <th>324</th>\n",
       "      <td>835</td>\n",
       "      <td>sub-verse835</td>\n",
       "      <td>0</td>\n",
       "      <td>NaN</td>\n",
       "      <td>1.0</td>\n",
       "      <td>L5</td>\n",
       "    </tr>\n",
       "  </tbody>\n",
       "</table>\n",
       "<p>285 rows × 6 columns</p>\n",
       "</div>"
      ],
      "text/plain": [
       "      Id       Full_Id Castellvi 2a/3a Side  Sacrum Seg Last_L\n",
       "0      4  sub-verse004         0        NaN         1.0     L5\n",
       "1      5  sub-verse005         0        NaN         1.0     L5\n",
       "2      6  sub-verse006         0        NaN         1.0     L5\n",
       "4      8  sub-verse008         0        NaN         1.0     L5\n",
       "5      9  sub-verse009         0        NaN         1.0     L5\n",
       "..   ...           ...       ...        ...         ...    ...\n",
       "320  824  sub-verse824         0        NaN         1.0     L5\n",
       "321  825  sub-verse825         0        NaN         1.0     L5\n",
       "322  826  sub-verse826         0        NaN         1.0     L5\n",
       "323  833  sub-verse833        2b        NaN         1.0     L5\n",
       "324  835  sub-verse835         0        NaN         1.0     L5\n",
       "\n",
       "[285 rows x 6 columns]"
      ]
     },
     "execution_count": 87,
     "metadata": {},
     "output_type": "execute_result"
    }
   ],
   "source": [
    "master_df"
   ]
  },
  {
   "cell_type": "code",
   "execution_count": 88,
   "metadata": {},
   "outputs": [],
   "source": [
    "verse19 = '../dataset-verse19/'\n",
    "verse20 = '../dataset-verse20/'\n",
    "def get_full_idx(root):\n",
    "    root = root + 'derivatives/'    \n",
    "    full_idx = os.listdir(root)\n",
    "    return full_idx\n",
    "\n",
    "dataset_19 = get_full_idx(verse19)\n",
    "dataset_20 = get_full_idx(verse20)\n",
    "full_idx = get_full_idx(verse19) + get_full_idx(verse20)\n"
   ]
  },
  {
   "cell_type": "code",
   "execution_count": 89,
   "metadata": {},
   "outputs": [
    {
     "name": "stdout",
     "output_type": "stream",
     "text": [
      "dataset size: 323\n"
     ]
    }
   ],
   "source": [
    "print('dataset size:', len(full_idx))"
   ]
  },
  {
   "cell_type": "code",
   "execution_count": 100,
   "metadata": {},
   "outputs": [],
   "source": [
    "def find_missing_derivatives(list1, list2):\n",
    "    # Find elements present in list1 but not in list2\n",
    "    missing_in_list2 = [item for item in list1 if item not in list2]\n",
    "\n",
    "    # Find elements present in list2 but not in list1\n",
    "    missing_in_list1 = [item for item in list2 if item not in list1]\n",
    "\n",
    "    return missing_in_list1, missing_in_list2"
   ]
  },
  {
   "cell_type": "code",
   "execution_count": 103,
   "metadata": {},
   "outputs": [
    {
     "name": "stdout",
     "output_type": "stream",
     "text": [
      "Missing in list1: 56\n",
      "Missing in list2: 18\n"
     ]
    }
   ],
   "source": [
    "list1 = list(master_df['Full_Id'])\n",
    "list2 = full_idx\n",
    "\n",
    "missing_in_list1, missing_in_list2 = find_missing_derivatives(list1, list2)\n",
    "print(\"Missing in list1:\", len(missing_in_list1))\n",
    "print(\"Missing in list2:\", len(missing_in_list2))\n"
   ]
  },
  {
   "cell_type": "code",
   "execution_count": 105,
   "metadata": {},
   "outputs": [
    {
     "data": {
      "text/plain": [
       "['sub-verse410',\n",
       " 'sub-verse205',\n",
       " 'sub-verse105',\n",
       " 'sub-verse081',\n",
       " 'sub-verse403',\n",
       " 'sub-verse221',\n",
       " 'sub-verse404',\n",
       " 'sub-verse007',\n",
       " 'sub-verse412',\n",
       " 'sub-verse401',\n",
       " 'sub-verse402',\n",
       " 'sub-verse405',\n",
       " 'sub-verse400',\n",
       " 'sub-verse112',\n",
       " 'sub-verse415',\n",
       " 'sub-verse413',\n",
       " 'sub-verse075',\n",
       " 'sub-verse018',\n",
       " 'sub-verse012',\n",
       " 'sub-verse416',\n",
       " 'sub-verse119',\n",
       " 'sub-verse125',\n",
       " 'sub-verse242',\n",
       " 'sub-verse217',\n",
       " 'sub-verse207',\n",
       " 'sub-verse225',\n",
       " 'sub-verse411',\n",
       " 'sub-verse409',\n",
       " 'sub-verse407',\n",
       " 'sub-verse100',\n",
       " 'sub-verse406',\n",
       " 'sub-verse408',\n",
       " 'sub-verse011',\n",
       " 'sub-verse150',\n",
       " 'sub-verse414',\n",
       " 'sub-verse059',\n",
       " 'sub-verse250',\n",
       " 'sub-verse417',\n",
       " 'sub-verse230',\n",
       " 'sub-verse643',\n",
       " 'sub-verse814',\n",
       " 'sub-verse645',\n",
       " 'sub-verse650',\n",
       " 'sub-verse803',\n",
       " 'sub-verse641',\n",
       " 'sub-verse647',\n",
       " 'sub-verse767',\n",
       " 'sub-verse757',\n",
       " 'sub-verse710',\n",
       " 'sub-verse596',\n",
       " 'sub-verse544',\n",
       " 'sub-verse648',\n",
       " 'sub-verse764',\n",
       " 'sub-verse651',\n",
       " 'sub-verse640',\n",
       " 'sub-verse754']"
      ]
     },
     "execution_count": 105,
     "metadata": {},
     "output_type": "execute_result"
    }
   ],
   "source": [
    "missing_in_list1"
   ]
  },
  {
   "cell_type": "code",
   "execution_count": 106,
   "metadata": {},
   "outputs": [
    {
     "data": {
      "text/plain": [
       "['sub-verse400_split-verse155',\n",
       " 'sub-verse401_split-verse253',\n",
       " 'sub-verse402_split-verse251',\n",
       " 'sub-verse403_split-verse255',\n",
       " 'sub-verse404_split-verse256',\n",
       " 'sub-verse405_split-verse259',\n",
       " 'sub-verse406_split-verse261',\n",
       " 'sub-verse407_split-verse262',\n",
       " 'sub-verse408_split-verse265',\n",
       " 'sub-verse409_split-verse266',\n",
       " 'sub-verse410_split-verse267',\n",
       " 'sub-verse411_split-verse270',\n",
       " 'sub-verse412_split-verse290',\n",
       " 'sub-verse413_split-verse272',\n",
       " 'sub-verse414_split-verse273',\n",
       " 'sub-verse415_split-verse275',\n",
       " 'sub-verse416_split-verse279',\n",
       " 'sub-verse417_split-verse278']"
      ]
     },
     "execution_count": 106,
     "metadata": {},
     "output_type": "execute_result"
    }
   ],
   "source": [
    "missing_in_list2"
   ]
  },
  {
   "cell_type": "code",
   "execution_count": 116,
   "metadata": {},
   "outputs": [],
   "source": [
    "# Uncomment to make it optimized\n",
    "\n",
    "# start_of_20 = sorted(dataset_20)\n",
    "# idx_arr = start_of_20[0].split('verse')\n",
    "# first_idx_20 = idx_arr[-1]\n",
    "# print(first_idx_20)"
   ]
  },
  {
   "cell_type": "code",
   "execution_count": 115,
   "metadata": {},
   "outputs": [
    {
     "ename": "Exception",
     "evalue": "Missing images!!",
     "output_type": "error",
     "traceback": [
      "\u001b[0;31m---------------------------------------------------------------------------\u001b[0m",
      "\u001b[0;31mException\u001b[0m                                 Traceback (most recent call last)",
      "Cell \u001b[0;32mIn[115], line 13\u001b[0m\n\u001b[1;32m     11\u001b[0m     \u001b[39mcontinue\u001b[39;00m\n\u001b[1;32m     12\u001b[0m \u001b[39melse\u001b[39;00m:\n\u001b[0;32m---> 13\u001b[0m     \u001b[39mraise\u001b[39;00m \u001b[39mException\u001b[39;00m(\u001b[39m'\u001b[39m\u001b[39mMissing images!!\u001b[39m\u001b[39m'\u001b[39m)\n",
      "\u001b[0;31mException\u001b[0m: Missing images!!"
     ]
    }
   ],
   "source": [
    "for i in master_df.Full_Id:\n",
    "    # TODO : Ask Hendrick about those missing images. \n",
    "\n",
    "    # idx_arr = i.split('verse')\n",
    "    # idx = idx_arr[-1]\n",
    "    # print(i)\n",
    "    \n",
    "    if i in dataset_19:\n",
    "        continue\n",
    "    elif i in dataset_20:\n",
    "        continue\n",
    "    else:\n",
    "        raise Exception('Missing images!!')\n",
    "        "
   ]
  },
  {
   "cell_type": "code",
   "execution_count": null,
   "metadata": {},
   "outputs": [],
   "source": []
  }
 ],
 "metadata": {
  "kernelspec": {
   "display_name": "adlm",
   "language": "python",
   "name": "python3"
  },
  "language_info": {
   "codemirror_mode": {
    "name": "ipython",
    "version": 3
   },
   "file_extension": ".py",
   "mimetype": "text/x-python",
   "name": "python",
   "nbconvert_exporter": "python",
   "pygments_lexer": "ipython3",
   "version": "3.9.16"
  },
  "orig_nbformat": 4
 },
 "nbformat": 4,
 "nbformat_minor": 2
}
