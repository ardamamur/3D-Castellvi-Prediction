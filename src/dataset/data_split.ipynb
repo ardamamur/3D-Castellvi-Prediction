{
 "cells": [
  {
   "cell_type": "code",
   "execution_count": 1,
   "metadata": {},
   "outputs": [],
   "source": [
    "import pandas as pd\n",
    "import os\n",
    "import numpy as np\n",
    "from sklearn.model_selection import train_test_split"
   ]
  },
  {
   "cell_type": "code",
   "execution_count": 2,
   "metadata": {},
   "outputs": [],
   "source": [
    "verse19 = '/data1/practical-sose23/dataset-verse19/derivatives'\n",
    "verse20 = '/data1/practical-sose23/dataset-verse20/derivatives'\n",
    "master_df = pd.read_excel(\"/data1/practical-sose23/castellvi/team_repo/3D-Castellvi-Prediction/src/dataset/VerSe_masterlist.xlsx\")\n",
    "\n",
    "verse19_list = os.listdir(verse19)\n",
    "verse20_list = os.listdir(verse20)"
   ]
  },
  {
   "cell_type": "code",
   "execution_count": 3,
   "metadata": {},
   "outputs": [
    {
     "data": {
      "text/html": [
       "<div>\n",
       "<style scoped>\n",
       "    .dataframe tbody tr th:only-of-type {\n",
       "        vertical-align: middle;\n",
       "    }\n",
       "\n",
       "    .dataframe tbody tr th {\n",
       "        vertical-align: top;\n",
       "    }\n",
       "\n",
       "    .dataframe thead th {\n",
       "        text-align: right;\n",
       "    }\n",
       "</style>\n",
       "<table border=\"1\" class=\"dataframe\">\n",
       "  <thead>\n",
       "    <tr style=\"text-align: right;\">\n",
       "      <th></th>\n",
       "      <th>Id</th>\n",
       "      <th>Full_Id</th>\n",
       "      <th>Castellvi</th>\n",
       "      <th>2a/3a Side</th>\n",
       "      <th>Sacrum Seg</th>\n",
       "      <th>Last_L</th>\n",
       "      <th>Split</th>\n",
       "      <th>Comment</th>\n",
       "    </tr>\n",
       "  </thead>\n",
       "  <tbody>\n",
       "    <tr>\n",
       "      <th>0</th>\n",
       "      <td>4</td>\n",
       "      <td>sub-verse004</td>\n",
       "      <td>0</td>\n",
       "      <td>NaN</td>\n",
       "      <td>True</td>\n",
       "      <td>L5</td>\n",
       "      <td>NaN</td>\n",
       "      <td>NaN</td>\n",
       "    </tr>\n",
       "    <tr>\n",
       "      <th>1</th>\n",
       "      <td>5</td>\n",
       "      <td>sub-verse005</td>\n",
       "      <td>0</td>\n",
       "      <td>NaN</td>\n",
       "      <td>True</td>\n",
       "      <td>L5</td>\n",
       "      <td>NaN</td>\n",
       "      <td>NaN</td>\n",
       "    </tr>\n",
       "    <tr>\n",
       "      <th>2</th>\n",
       "      <td>6</td>\n",
       "      <td>sub-verse006</td>\n",
       "      <td>0</td>\n",
       "      <td>NaN</td>\n",
       "      <td>True</td>\n",
       "      <td>L5</td>\n",
       "      <td>NaN</td>\n",
       "      <td>NaN</td>\n",
       "    </tr>\n",
       "    <tr>\n",
       "      <th>3</th>\n",
       "      <td>7</td>\n",
       "      <td>NaN</td>\n",
       "      <td>NaN</td>\n",
       "      <td>NaN</td>\n",
       "      <td>NaN</td>\n",
       "      <td>NaN</td>\n",
       "      <td>NaN</td>\n",
       "      <td>NaN</td>\n",
       "    </tr>\n",
       "    <tr>\n",
       "      <th>4</th>\n",
       "      <td>8</td>\n",
       "      <td>sub-verse008</td>\n",
       "      <td>0</td>\n",
       "      <td>NaN</td>\n",
       "      <td>True</td>\n",
       "      <td>L5</td>\n",
       "      <td>NaN</td>\n",
       "      <td>NaN</td>\n",
       "    </tr>\n",
       "    <tr>\n",
       "      <th>...</th>\n",
       "      <td>...</td>\n",
       "      <td>...</td>\n",
       "      <td>...</td>\n",
       "      <td>...</td>\n",
       "      <td>...</td>\n",
       "      <td>...</td>\n",
       "      <td>...</td>\n",
       "      <td>...</td>\n",
       "    </tr>\n",
       "    <tr>\n",
       "      <th>320</th>\n",
       "      <td>824</td>\n",
       "      <td>sub-verse824</td>\n",
       "      <td>0</td>\n",
       "      <td>NaN</td>\n",
       "      <td>True</td>\n",
       "      <td>L5</td>\n",
       "      <td>NaN</td>\n",
       "      <td>NaN</td>\n",
       "    </tr>\n",
       "    <tr>\n",
       "      <th>321</th>\n",
       "      <td>825</td>\n",
       "      <td>sub-verse825</td>\n",
       "      <td>0</td>\n",
       "      <td>NaN</td>\n",
       "      <td>True</td>\n",
       "      <td>L5</td>\n",
       "      <td>NaN</td>\n",
       "      <td>NaN</td>\n",
       "    </tr>\n",
       "    <tr>\n",
       "      <th>322</th>\n",
       "      <td>826</td>\n",
       "      <td>sub-verse826</td>\n",
       "      <td>0</td>\n",
       "      <td>NaN</td>\n",
       "      <td>True</td>\n",
       "      <td>L5</td>\n",
       "      <td>NaN</td>\n",
       "      <td>NaN</td>\n",
       "    </tr>\n",
       "    <tr>\n",
       "      <th>323</th>\n",
       "      <td>833</td>\n",
       "      <td>sub-verse833</td>\n",
       "      <td>2b</td>\n",
       "      <td>NaN</td>\n",
       "      <td>True</td>\n",
       "      <td>L5</td>\n",
       "      <td>NaN</td>\n",
       "      <td>NaN</td>\n",
       "    </tr>\n",
       "    <tr>\n",
       "      <th>324</th>\n",
       "      <td>835</td>\n",
       "      <td>sub-verse835</td>\n",
       "      <td>0</td>\n",
       "      <td>NaN</td>\n",
       "      <td>True</td>\n",
       "      <td>L5</td>\n",
       "      <td>NaN</td>\n",
       "      <td>NaN</td>\n",
       "    </tr>\n",
       "  </tbody>\n",
       "</table>\n",
       "<p>325 rows × 8 columns</p>\n",
       "</div>"
      ],
      "text/plain": [
       "      Id       Full_Id Castellvi 2a/3a Side Sacrum Seg Last_L  Split  Comment\n",
       "0      4  sub-verse004         0        NaN       True     L5    NaN      NaN\n",
       "1      5  sub-verse005         0        NaN       True     L5    NaN      NaN\n",
       "2      6  sub-verse006         0        NaN       True     L5    NaN      NaN\n",
       "3      7           NaN       NaN        NaN        NaN    NaN    NaN      NaN\n",
       "4      8  sub-verse008         0        NaN       True     L5    NaN      NaN\n",
       "..   ...           ...       ...        ...        ...    ...    ...      ...\n",
       "320  824  sub-verse824         0        NaN       True     L5    NaN      NaN\n",
       "321  825  sub-verse825         0        NaN       True     L5    NaN      NaN\n",
       "322  826  sub-verse826         0        NaN       True     L5    NaN      NaN\n",
       "323  833  sub-verse833        2b        NaN       True     L5    NaN      NaN\n",
       "324  835  sub-verse835         0        NaN       True     L5    NaN      NaN\n",
       "\n",
       "[325 rows x 8 columns]"
      ]
     },
     "execution_count": 3,
     "metadata": {},
     "output_type": "execute_result"
    }
   ],
   "source": [
    "master_df "
   ]
  },
  {
   "cell_type": "code",
   "execution_count": 9,
   "metadata": {},
   "outputs": [],
   "source": [
    "\n",
    "no_side = ['0', '1a', '1b', '4']\n",
    "side_2 = ['2a', '2b']\n",
    "side_3 = ['3a', '3b']\n",
    "master_df\n",
    "counts = [len(master_df[master_df['Castellvi'].astype(str) == c]) for c in no_side]\n",
    "counts2 = [len(master_df[master_df['Castellvi'].astype(str) == c]) for c in side_2]\n",
    "counts3 = [len(master_df[master_df['Castellvi'].astype(str) == c]) for c in side_3]\n",
    "total_count = sum(counts)\n",
    "total_count2 = sum(counts2)\n",
    "total_count3 = sum(counts3)\n",
    "\n",
    "counts = [total_count, total_count2, total_count3]"
   ]
  },
  {
   "cell_type": "code",
   "execution_count": 10,
   "metadata": {},
   "outputs": [],
   "source": [
    "weights = [1 / c for c in counts]"
   ]
  },
  {
   "cell_type": "code",
   "execution_count": 11,
   "metadata": {},
   "outputs": [
    {
     "data": {
      "text/plain": [
       "[0.005208333333333333, 0.016666666666666666, 0.024390243902439025]"
      ]
     },
     "execution_count": 11,
     "metadata": {},
     "output_type": "execute_result"
    }
   ],
   "source": [
    "weights"
   ]
  },
  {
   "cell_type": "code",
   "execution_count": 14,
   "metadata": {},
   "outputs": [
    {
     "data": {
      "text/plain": [
       "float"
      ]
     },
     "execution_count": 14,
     "metadata": {},
     "output_type": "execute_result"
    }
   ],
   "source": [
    "type(master_df['2a/3a Side'].values[0])"
   ]
  },
  {
   "cell_type": "code",
   "execution_count": 7,
   "metadata": {},
   "outputs": [],
   "source": [
    "Dataset = []\n",
    "Split = []"
   ]
  },
  {
   "cell_type": "code",
   "execution_count": 8,
   "metadata": {},
   "outputs": [],
   "source": [
    "for i in master_df.Full_Id:\n",
    "    if i in verse19_list:\n",
    "        Dataset.append('VerSe19')\n",
    "    elif i in verse20_list:\n",
    "        Dataset.append('VerSe20')\n",
    "    else:\n",
    "        Dataset.append(None)\n",
    "#Dataset"
   ]
  },
  {
   "cell_type": "code",
   "execution_count": 9,
   "metadata": {},
   "outputs": [],
   "source": [
    "# Assume df is your dataframe and 'Castellvi' is the column you want to stratify\n",
    "# Split the data into 80% and 10% for training and val and 10% for testing\n",
    "df = master_df.copy()\n",
    "df = df.dropna(subset=['Full_Id'])\n",
    "df['Castellvi'] = df['Castellvi'].astype(str)\n",
    "train_df, test_df = train_test_split(df, test_size=0.1, stratify=df['Castellvi'], random_state=42)\n",
    "# Further split the training data into 80% for training and 20% for validation\n",
    "train_df, val_df = train_test_split(train_df, test_size=0.1, stratify=train_df['Castellvi'], random_state=42)\n",
    "\n"
   ]
  },
  {
   "cell_type": "code",
   "execution_count": 10,
   "metadata": {},
   "outputs": [],
   "source": [
    "for i in master_df.Full_Id:\n",
    "    if i in train_df.Full_Id.values:\n",
    "        Split.append('train')\n",
    "    elif i in val_df.Full_Id.values:\n",
    "        Split.append('val')\n",
    "    elif i in test_df.Full_Id.values:\n",
    "        Split.append('test')\n",
    "    else:\n",
    "        Split.append(None)"
   ]
  },
  {
   "cell_type": "code",
   "execution_count": 11,
   "metadata": {},
   "outputs": [],
   "source": [
    "master_df['Dataset'] = Dataset\n",
    "master_df['Split'] = Split\n",
    "master_df = master_df[['Id', 'Full_Id', 'Dataset', 'Castellvi', '2a/3a Side', 'Sacrum Seg', 'Last_L', 'Split', 'Comment']]"
   ]
  },
  {
   "cell_type": "code",
   "execution_count": 12,
   "metadata": {},
   "outputs": [
    {
     "data": {
      "text/html": [
       "<div>\n",
       "<style scoped>\n",
       "    .dataframe tbody tr th:only-of-type {\n",
       "        vertical-align: middle;\n",
       "    }\n",
       "\n",
       "    .dataframe tbody tr th {\n",
       "        vertical-align: top;\n",
       "    }\n",
       "\n",
       "    .dataframe thead th {\n",
       "        text-align: right;\n",
       "    }\n",
       "</style>\n",
       "<table border=\"1\" class=\"dataframe\">\n",
       "  <thead>\n",
       "    <tr style=\"text-align: right;\">\n",
       "      <th></th>\n",
       "      <th>Id</th>\n",
       "      <th>Full_Id</th>\n",
       "      <th>Dataset</th>\n",
       "      <th>Castellvi</th>\n",
       "      <th>2a/3a Side</th>\n",
       "      <th>Sacrum Seg</th>\n",
       "      <th>Last_L</th>\n",
       "      <th>Split</th>\n",
       "      <th>Comment</th>\n",
       "    </tr>\n",
       "  </thead>\n",
       "  <tbody>\n",
       "    <tr>\n",
       "      <th>0</th>\n",
       "      <td>4</td>\n",
       "      <td>sub-verse004</td>\n",
       "      <td>VerSe19</td>\n",
       "      <td>0</td>\n",
       "      <td>NaN</td>\n",
       "      <td>True</td>\n",
       "      <td>L5</td>\n",
       "      <td>train</td>\n",
       "      <td>NaN</td>\n",
       "    </tr>\n",
       "    <tr>\n",
       "      <th>1</th>\n",
       "      <td>5</td>\n",
       "      <td>sub-verse005</td>\n",
       "      <td>VerSe19</td>\n",
       "      <td>0</td>\n",
       "      <td>NaN</td>\n",
       "      <td>True</td>\n",
       "      <td>L5</td>\n",
       "      <td>train</td>\n",
       "      <td>NaN</td>\n",
       "    </tr>\n",
       "    <tr>\n",
       "      <th>2</th>\n",
       "      <td>6</td>\n",
       "      <td>sub-verse006</td>\n",
       "      <td>VerSe19</td>\n",
       "      <td>0</td>\n",
       "      <td>NaN</td>\n",
       "      <td>True</td>\n",
       "      <td>L5</td>\n",
       "      <td>train</td>\n",
       "      <td>NaN</td>\n",
       "    </tr>\n",
       "    <tr>\n",
       "      <th>3</th>\n",
       "      <td>7</td>\n",
       "      <td>NaN</td>\n",
       "      <td>None</td>\n",
       "      <td>NaN</td>\n",
       "      <td>NaN</td>\n",
       "      <td>NaN</td>\n",
       "      <td>NaN</td>\n",
       "      <td>None</td>\n",
       "      <td>NaN</td>\n",
       "    </tr>\n",
       "    <tr>\n",
       "      <th>4</th>\n",
       "      <td>8</td>\n",
       "      <td>sub-verse008</td>\n",
       "      <td>VerSe19</td>\n",
       "      <td>0</td>\n",
       "      <td>NaN</td>\n",
       "      <td>True</td>\n",
       "      <td>L5</td>\n",
       "      <td>train</td>\n",
       "      <td>NaN</td>\n",
       "    </tr>\n",
       "    <tr>\n",
       "      <th>...</th>\n",
       "      <td>...</td>\n",
       "      <td>...</td>\n",
       "      <td>...</td>\n",
       "      <td>...</td>\n",
       "      <td>...</td>\n",
       "      <td>...</td>\n",
       "      <td>...</td>\n",
       "      <td>...</td>\n",
       "      <td>...</td>\n",
       "    </tr>\n",
       "    <tr>\n",
       "      <th>320</th>\n",
       "      <td>824</td>\n",
       "      <td>sub-verse824</td>\n",
       "      <td>VerSe20</td>\n",
       "      <td>0</td>\n",
       "      <td>NaN</td>\n",
       "      <td>True</td>\n",
       "      <td>L5</td>\n",
       "      <td>val</td>\n",
       "      <td>NaN</td>\n",
       "    </tr>\n",
       "    <tr>\n",
       "      <th>321</th>\n",
       "      <td>825</td>\n",
       "      <td>sub-verse825</td>\n",
       "      <td>VerSe20</td>\n",
       "      <td>0</td>\n",
       "      <td>NaN</td>\n",
       "      <td>True</td>\n",
       "      <td>L5</td>\n",
       "      <td>train</td>\n",
       "      <td>NaN</td>\n",
       "    </tr>\n",
       "    <tr>\n",
       "      <th>322</th>\n",
       "      <td>826</td>\n",
       "      <td>sub-verse826</td>\n",
       "      <td>VerSe20</td>\n",
       "      <td>0</td>\n",
       "      <td>NaN</td>\n",
       "      <td>True</td>\n",
       "      <td>L5</td>\n",
       "      <td>train</td>\n",
       "      <td>NaN</td>\n",
       "    </tr>\n",
       "    <tr>\n",
       "      <th>323</th>\n",
       "      <td>833</td>\n",
       "      <td>sub-verse833</td>\n",
       "      <td>VerSe20</td>\n",
       "      <td>2b</td>\n",
       "      <td>NaN</td>\n",
       "      <td>True</td>\n",
       "      <td>L5</td>\n",
       "      <td>train</td>\n",
       "      <td>NaN</td>\n",
       "    </tr>\n",
       "    <tr>\n",
       "      <th>324</th>\n",
       "      <td>835</td>\n",
       "      <td>sub-verse835</td>\n",
       "      <td>VerSe20</td>\n",
       "      <td>0</td>\n",
       "      <td>NaN</td>\n",
       "      <td>True</td>\n",
       "      <td>L5</td>\n",
       "      <td>test</td>\n",
       "      <td>NaN</td>\n",
       "    </tr>\n",
       "  </tbody>\n",
       "</table>\n",
       "<p>325 rows × 9 columns</p>\n",
       "</div>"
      ],
      "text/plain": [
       "      Id       Full_Id  Dataset Castellvi 2a/3a Side Sacrum Seg Last_L  Split  \\\n",
       "0      4  sub-verse004  VerSe19         0        NaN       True     L5  train   \n",
       "1      5  sub-verse005  VerSe19         0        NaN       True     L5  train   \n",
       "2      6  sub-verse006  VerSe19         0        NaN       True     L5  train   \n",
       "3      7           NaN     None       NaN        NaN        NaN    NaN   None   \n",
       "4      8  sub-verse008  VerSe19         0        NaN       True     L5  train   \n",
       "..   ...           ...      ...       ...        ...        ...    ...    ...   \n",
       "320  824  sub-verse824  VerSe20         0        NaN       True     L5    val   \n",
       "321  825  sub-verse825  VerSe20         0        NaN       True     L5  train   \n",
       "322  826  sub-verse826  VerSe20         0        NaN       True     L5  train   \n",
       "323  833  sub-verse833  VerSe20        2b        NaN       True     L5  train   \n",
       "324  835  sub-verse835  VerSe20         0        NaN       True     L5   test   \n",
       "\n",
       "     Comment  \n",
       "0        NaN  \n",
       "1        NaN  \n",
       "2        NaN  \n",
       "3        NaN  \n",
       "4        NaN  \n",
       "..       ...  \n",
       "320      NaN  \n",
       "321      NaN  \n",
       "322      NaN  \n",
       "323      NaN  \n",
       "324      NaN  \n",
       "\n",
       "[325 rows x 9 columns]"
      ]
     },
     "execution_count": 12,
     "metadata": {},
     "output_type": "execute_result"
    }
   ],
   "source": [
    "master_df"
   ]
  },
  {
   "cell_type": "code",
   "execution_count": 15,
   "metadata": {},
   "outputs": [
    {
     "data": {
      "text/plain": [
       "0     116\n",
       "2a     28\n",
       "2b     20\n",
       "3b     19\n",
       "1b     17\n",
       "1a     12\n",
       "3a     12\n",
       "4       5\n",
       "Name: Castellvi, dtype: int64"
      ]
     },
     "execution_count": 15,
     "metadata": {},
     "output_type": "execute_result"
    }
   ],
   "source": [
    "train_df['Castellvi'].value_counts()\n"
   ]
  },
  {
   "cell_type": "code",
   "execution_count": 16,
   "metadata": {},
   "outputs": [
    {
     "data": {
      "text/plain": [
       "0     13\n",
       "2a     3\n",
       "3b     2\n",
       "2b     2\n",
       "1b     2\n",
       "1a     2\n",
       "3a     1\n",
       "4      1\n",
       "Name: Castellvi, dtype: int64"
      ]
     },
     "execution_count": 16,
     "metadata": {},
     "output_type": "execute_result"
    }
   ],
   "source": [
    "val_df['Castellvi'].value_counts()"
   ]
  },
  {
   "cell_type": "code",
   "execution_count": 17,
   "metadata": {},
   "outputs": [
    {
     "data": {
      "text/plain": [
       "0     15\n",
       "2a     4\n",
       "2b     3\n",
       "3b     2\n",
       "1b     2\n",
       "3a     1\n",
       "4      1\n",
       "1a     1\n",
       "Name: Castellvi, dtype: int64"
      ]
     },
     "execution_count": 17,
     "metadata": {},
     "output_type": "execute_result"
    }
   ],
   "source": [
    "test_df['Castellvi'].value_counts()"
   ]
  }
 ],
 "metadata": {
  "kernelspec": {
   "display_name": "castellvi",
   "language": "python",
   "name": "python3"
  },
  "language_info": {
   "codemirror_mode": {
    "name": "ipython",
    "version": 3
   },
   "file_extension": ".py",
   "mimetype": "text/x-python",
   "name": "python",
   "nbconvert_exporter": "python",
   "pygments_lexer": "ipython3",
   "version": "3.10.11"
  },
  "orig_nbformat": 4
 },
 "nbformat": 4,
 "nbformat_minor": 2
}
