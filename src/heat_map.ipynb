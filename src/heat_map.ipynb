{
 "cells": [
  {
   "cell_type": "code",
   "execution_count": 12,
   "metadata": {},
   "outputs": [],
   "source": [
    "import os, sys\n",
    "import torch\n",
    "import argparse\n",
    "from scipy import ndimage"
   ]
  },
  {
   "cell_type": "code",
   "execution_count": 3,
   "metadata": {},
   "outputs": [],
   "source": [
    "#!export PYTHONPATH=$PYTHONPATH:/data1/practical-sose23/castellvi/castellvi_prediction/bids\n",
    "sys.path.append('/data1/practical-sose23/castellvi/castellvi_prediction/bids')"
   ]
  },
  {
   "cell_type": "code",
   "execution_count": 4,
   "metadata": {},
   "outputs": [
    {
     "name": "stderr",
     "output_type": "stream",
     "text": [
      "####################################\n",
      "/u/home/mamar/.conda/envs/env-arda/lib/python3.10/site-packages/tqdm/auto.py:21: TqdmWarning: IProgress not found. Please update jupyter and ipywidgets. See https://ipywidgets.readthedocs.io/en/stable/user_install.html\n",
      "  from .autonotebook import tqdm as notebook_tqdm\n",
      "  File \"/u/home/mamar/.conda/envs/env-arda/lib/python3.10/runpy.py\", line 196, in _run_module_as_main\n",
      "    return _run_code(code, main_globals, None,\n",
      "  File \"/u/home/mamar/.conda/envs/env-arda/lib/python3.10/runpy.py\", line 86, in _run_code\n",
      "    exec(code, run_globals)\n",
      "  File \"/u/home/mamar/.conda/envs/env-arda/lib/python3.10/site-packages/ipykernel_launcher.py\", line 17, in <module>\n",
      "    app.launch_new_instance()\n",
      "  File \"/u/home/mamar/.conda/envs/env-arda/lib/python3.10/site-packages/traitlets/config/application.py\", line 992, in launch_instance\n",
      "    app.start()\n",
      "  File \"/u/home/mamar/.conda/envs/env-arda/lib/python3.10/site-packages/ipykernel/kernelapp.py\", line 711, in start\n",
      "    self.io_loop.start()\n",
      "  File \"/u/home/mamar/.conda/envs/env-arda/lib/python3.10/site-packages/tornado/platform/asyncio.py\", line 215, in start\n",
      "    self.asyncio_loop.run_forever()\n",
      "  File \"/u/home/mamar/.conda/envs/env-arda/lib/python3.10/asyncio/base_events.py\", line 603, in run_forever\n",
      "    self._run_once()\n",
      "  File \"/u/home/mamar/.conda/envs/env-arda/lib/python3.10/asyncio/base_events.py\", line 1909, in _run_once\n",
      "    handle._run()\n",
      "  File \"/u/home/mamar/.conda/envs/env-arda/lib/python3.10/asyncio/events.py\", line 80, in _run\n",
      "    self._context.run(self._callback, *self._args)\n",
      "  File \"/u/home/mamar/.conda/envs/env-arda/lib/python3.10/site-packages/ipykernel/kernelbase.py\", line 510, in dispatch_queue\n",
      "    await self.process_one()\n",
      "  File \"/u/home/mamar/.conda/envs/env-arda/lib/python3.10/site-packages/ipykernel/kernelbase.py\", line 499, in process_one\n",
      "    await dispatch(*args)\n",
      "  File \"/u/home/mamar/.conda/envs/env-arda/lib/python3.10/site-packages/ipykernel/kernelbase.py\", line 406, in dispatch_shell\n",
      "    await result\n",
      "  File \"/u/home/mamar/.conda/envs/env-arda/lib/python3.10/site-packages/ipykernel/kernelbase.py\", line 729, in execute_request\n",
      "    reply_content = await reply_content\n",
      "  File \"/u/home/mamar/.conda/envs/env-arda/lib/python3.10/site-packages/ipykernel/ipkernel.py\", line 411, in do_execute\n",
      "    res = shell.run_cell(\n",
      "  File \"/u/home/mamar/.conda/envs/env-arda/lib/python3.10/site-packages/ipykernel/zmqshell.py\", line 531, in run_cell\n",
      "    return super().run_cell(*args, **kwargs)\n",
      "  File \"/u/home/mamar/.conda/envs/env-arda/lib/python3.10/site-packages/IPython/core/interactiveshell.py\", line 2945, in run_cell\n",
      "    result = self._run_cell(\n",
      "  File \"/u/home/mamar/.conda/envs/env-arda/lib/python3.10/site-packages/IPython/core/interactiveshell.py\", line 3000, in _run_cell\n",
      "    return runner(coro)\n",
      "  File \"/u/home/mamar/.conda/envs/env-arda/lib/python3.10/site-packages/IPython/core/async_helpers.py\", line 129, in _pseudo_sync_runner\n",
      "    coro.send(None)\n",
      "  File \"/u/home/mamar/.conda/envs/env-arda/lib/python3.10/site-packages/IPython/core/interactiveshell.py\", line 3203, in run_cell_async\n",
      "    has_raised = await self.run_ast_nodes(code_ast.body, cell_name,\n",
      "  File \"/u/home/mamar/.conda/envs/env-arda/lib/python3.10/site-packages/IPython/core/interactiveshell.py\", line 3382, in run_ast_nodes\n",
      "    if await self.run_code(code, result, async_=asy):\n",
      "  File \"/u/home/mamar/.conda/envs/env-arda/lib/python3.10/site-packages/IPython/core/interactiveshell.py\", line 3442, in run_code\n",
      "    exec(code_obj, self.user_global_ns, self.user_ns)\n",
      "  File \"/tmp/ipykernel_1488526/994605332.py\", line 3, in <module>\n",
      "    from utils._prepare_data import DataHandler\n",
      "  File \"<frozen importlib._bootstrap>\", line 1027, in _find_and_load\n",
      "  File \"<frozen importlib._bootstrap>\", line 992, in _find_and_load_unlocked\n",
      "  File \"<frozen importlib._bootstrap>\", line 241, in _call_with_frames_removed\n",
      "  File \"<frozen importlib._bootstrap>\", line 1027, in _find_and_load\n",
      "  File \"<frozen importlib._bootstrap>\", line 1006, in _find_and_load_unlocked\n",
      "  File \"<frozen importlib._bootstrap>\", line 688, in _load_unlocked\n",
      "  File \"<frozen importlib._bootstrap_external>\", line 883, in exec_module\n",
      "  File \"<frozen importlib._bootstrap>\", line 241, in _call_with_frames_removed\n",
      "  File \"/data1/practical-sose23/castellvi/team_repo/3D-Castellvi-Prediction/src/utils/__init__.py\", line 2, in <module>\n",
      "    from ._prepare_data import DataHandler\n",
      "  File \"<frozen importlib._bootstrap>\", line 1027, in _find_and_load\n",
      "  File \"<frozen importlib._bootstrap>\", line 1006, in _find_and_load_unlocked\n",
      "  File \"<frozen importlib._bootstrap>\", line 688, in _load_unlocked\n",
      "  File \"<frozen importlib._bootstrap_external>\", line 883, in exec_module\n",
      "  File \"<frozen importlib._bootstrap>\", line 241, in _call_with_frames_removed\n",
      "  File \"/data1/practical-sose23/castellvi/team_repo/3D-Castellvi-Prediction/src/utils/_prepare_data.py\", line 8, in <module>\n",
      "    from pqdm.processes import pqdm\n",
      "  File \"<frozen importlib._bootstrap>\", line 1027, in _find_and_load\n",
      "  File \"<frozen importlib._bootstrap>\", line 1006, in _find_and_load_unlocked\n",
      "  File \"<frozen importlib._bootstrap>\", line 688, in _load_unlocked\n",
      "  File \"<frozen importlib._bootstrap_external>\", line 883, in exec_module\n",
      "  File \"<frozen importlib._bootstrap>\", line 241, in _call_with_frames_removed\n",
      "  File \"/u/home/mamar/.conda/envs/env-arda/lib/python3.10/site-packages/pqdm/processes.py\", line 6, in <module>\n",
      "    from tqdm.auto import tqdm as tqdm_auto\n",
      "  File \"<frozen importlib._bootstrap>\", line 1027, in _find_and_load\n",
      "  File \"<frozen importlib._bootstrap>\", line 1006, in _find_and_load_unlocked\n",
      "  File \"<frozen importlib._bootstrap>\", line 688, in _load_unlocked\n",
      "  File \"<frozen importlib._bootstrap_external>\", line 883, in exec_module\n",
      "  File \"<frozen importlib._bootstrap>\", line 241, in _call_with_frames_removed\n",
      "  File \"/u/home/mamar/.conda/envs/env-arda/lib/python3.10/site-packages/tqdm/auto.py\", line 21, in <module>\n",
      "    from .autonotebook import tqdm as notebook_tqdm\n",
      "  File \"<frozen importlib._bootstrap>\", line 1027, in _find_and_load\n",
      "  File \"<frozen importlib._bootstrap>\", line 1006, in _find_and_load_unlocked\n",
      "  File \"<frozen importlib._bootstrap>\", line 688, in _load_unlocked\n",
      "  File \"<frozen importlib._bootstrap_external>\", line 883, in exec_module\n",
      "  File \"<frozen importlib._bootstrap>\", line 241, in _call_with_frames_removed\n",
      "  File \"/u/home/mamar/.conda/envs/env-arda/lib/python3.10/site-packages/tqdm/autonotebook.py\", line 19, in <module>\n",
      "    warn(WARN_NOIPYW, TqdmWarning, stacklevel=2)\n",
      "####################################\n"
     ]
    }
   ],
   "source": [
    "import pytorch_lightning as pl\n",
    "from pytorch_lightning.callbacks import ModelCheckpoint\n",
    "from utils._prepare_data import DataHandler\n",
    "from modules.ResNetModule import ResNet\n",
    "from modules.VerSeDataModule import VerSeDataModule\n",
    "from modules.DenseNetModule import DenseNet\n",
    "from modules.DenseNetModule_v2 import DenseNetV2\n",
    "from utils.environment_settings import env_settings\n",
    "import torch\n",
    "from torch import nn"
   ]
  },
  {
   "cell_type": "code",
   "execution_count": 5,
   "metadata": {},
   "outputs": [
    {
     "name": "stdout",
     "output_type": "stream",
     "text": [
      "Running on GPU #0\n"
     ]
    }
   ],
   "source": [
    "os.environ[\"CUDA_VISIBLE_DEVICES\"] = str(env_settings.CUDA_VISIBLE_DEVICES)\n",
    "if torch.cuda.is_available():\n",
    "    print('Running on GPU #' + str(torch.cuda.current_device()))"
   ]
  },
  {
   "cell_type": "code",
   "execution_count": 6,
   "metadata": {},
   "outputs": [],
   "source": [
    "parser = argparse.ArgumentParser(description='Evaluation settings')\n",
    "\n",
    "parser = argparse.ArgumentParser(description='Evaluation settings')\n",
    "parser.add_argument('--data_root', nargs='+', default=[str(os.path.join(env_settings.DATA, 'dataset-verse19')),\n",
    "                                                        str(os.path.join(env_settings.DATA, 'dataset-verse20')),\n",
    "                                                        str(os.path.join(env_settings.DATA, 'dataset-tri'))])\n",
    "parser.add_argument('--data_types', nargs='+', default=['rawdata', 'derivatives'])\n",
    "parser.add_argument('--img_types', nargs='+', default=['ct', 'subreg', 'cortex'])\n",
    "parser.add_argument('--master_list', default= str(os.path.join(env_settings.ROOT, 'src/dataset/Castellvi_list_Final_Split.xlsx')))\n",
    "parser.add_argument('--classification_type', default='right_side')\n",
    "parser.add_argument('--castellvi_classes', nargs='+', default=['1a', '1b', '2a', '2b', '3a', '3b', '4', '0'])\n",
    "parser.add_argument('--model', default='densenet')\n",
    "parser.add_argument('--phase', default='train')\n",
    "parser.add_argument('--scheduler', default='ReduceLROnPlateau')\n",
    "parser.add_argument('--optimizer', default='AdamW')\n",
    "parser.add_argument('--learning_rate', type=float, default=0.0001)\n",
    "parser.add_argument('--weight_decay', type=float, default=0.0001)\n",
    "parser.add_argument('--total_iterations', type=int, default=100)\n",
    "parser.add_argument('--batch_size', type=int, default=8)\n",
    "parser.add_argument('--accumulate_grad_batches', type=int, default=1)\n",
    "parser.add_argument('--num_workers', type=int, default=8)\n",
    "parser.add_argument('--save_intervals', type=int, default=10)\n",
    "parser.add_argument('--n_epochs', type=int, default=100)\n",
    "parser.add_argument('--resume_path', default='')\n",
    "parser.add_argument('--experiments', default=env_settings.EXPERIMENTS)\n",
    "parser.add_argument('--gpu_id', default='0')\n",
    "parser.add_argument('--n_devices', type=int, default=1)\n",
    "parser.add_argument('--manual_seed', type=int, default=1)\n",
    "parser.add_argument('--num_classes', type=int, default=3)\n",
    "parser.add_argument('--port', type=int, default=2023)\n",
    "parser.add_argument('--model_type', type=str, default='')\n",
    "parser.add_argument('--dropout_prob', type=float, default=0.3)\n",
    "\n",
    "\n",
    "parser.add_argument('--rotate_range', type=int, default=10)\n",
    "parser.add_argument('--shear_range', type=float, default=0.2)\n",
    "parser.add_argument('--translate_range', type=float, default=0.15)\n",
    "parser.add_argument('--scale_range', nargs='+', default=[0.9, 1.1])\n",
    "parser.add_argument('--aug_prob', type=float, default=0.5)\n",
    "\n",
    "parser.add_argument('--use_seg', default=True)\n",
    "parser.add_argument('--no_cuda', default=False)\n",
    "parser.add_argument('--weighted_sample', default=True)\n",
    "parser.add_argument('--weighted_loss', default=False)\n",
    "parser.add_argument('--flip_all', default=True)\n",
    "parser.add_argument('--cross_validation',default=False)\n",
    "parser.add_argument('--use_bin_seg', default=True)\n",
    "parser.add_argument('--use_zero_out',default=True)\n",
    "\n",
    "parser.add_argument('--elastic_transform', default=True)\n",
    "parser.add_argument('--seg_comparison', default=False)\n",
    "\n",
    "parser.add_argument('--version_no', type=int, default=10)\n",
    "parser.add_argument('--dataset', nargs='+', default=['verse', 'tri'])\n",
    "parser.add_argument('--eval_type', type=str, default='test')\n",
    "\n",
    "params, unknown = parser.parse_known_args()\n"
   ]
  },
  {
   "cell_type": "code",
   "execution_count": 7,
   "metadata": {},
   "outputs": [],
   "source": [
    "base_experiment = params.experiments + '/baseline_models/' + params.model\n",
    "ckpt_path = base_experiment + '/best_models/version_' + str(params.version_no)\n",
    "best_model= os.listdir(ckpt_path)[0]\n",
    "best_model_path = os.path.join(ckpt_path, best_model)"
   ]
  },
  {
   "cell_type": "code",
   "execution_count": 15,
   "metadata": {},
   "outputs": [],
   "source": [
    "from eval import Eval\n"
   ]
  },
  {
   "cell_type": "code",
   "execution_count": 16,
   "metadata": {},
   "outputs": [],
   "source": [
    "evaluator = Eval(params)\n",
    "best_model= os.listdir(ckpt_path)[0]\n",
    "best_model_path = os.path.join(ckpt_path, best_model)"
   ]
  },
  {
   "cell_type": "code",
   "execution_count": 17,
   "metadata": {},
   "outputs": [
    {
     "name": "stdout",
     "output_type": "stream",
     "text": [
      "DenseNet loaded with 3 classes, data_size (96, 78, 78) and 1 channel\n"
     ]
    }
   ],
   "source": [
    "model = evaluator.load_model(best_model_path, params)"
   ]
  },
  {
   "cell_type": "code",
   "execution_count": 18,
   "metadata": {},
   "outputs": [
    {
     "name": "stdout",
     "output_type": "stream",
     "text": [
      "[!] Unknown format seg-ano in file sub-verse649_dir-sag_seg-ano.nii.gz\n",
      "[!] Unknown format iso-ctd in file sub-verse616_dir-iso_iso-ctd.json\n",
      "[!] \"template\" is not a valid key/value pair. Expected \"KEY-VALUE\" in sub-verse519_template_sacrum_msk.nii.gz\n",
      "[!] \"sacrum\" is not a valid key/value pair. Expected \"KEY-VALUE\" in sub-verse519_template_sacrum_msk.nii.gz\n",
      "[!] Unknown format subreg in file verse559_CT-sag_seg-ano_subreg.nii.gz\n",
      "[!] \"verse559\" is not a valid key/value pair. Expected \"KEY-VALUE\" in verse559_CT-sag_seg-ano_subreg.nii.gz\n",
      "[!] \"verse559\" is not a valid key/value pair. Expected \"KEY-VALUE\" in verse559_CT-sag_seg-ano.nii.gz\n",
      "[!] \"verse549\" is not a valid key/value pair. Expected \"KEY-VALUE\" in verse549_CT-iso_seg-ano.nii.gz\n",
      "[!] Unknown format ce-ar in file sub-tri106_ce-ar.nii.gz\n",
      "[!] Unknown format ce-pv in file sub-tri066_ce-pv.nii.gz\n",
      "[!] Unknown format ce-ne in file sub-tri067_ce-ne.nii.gz\n",
      "[!] Unknown format ce-late in file sub-tri023_ce-late.nii.gz\n",
      "[!] Unknown format stat in file sub-tri106_ce-pv_seg-total_stat.json\n"
     ]
    }
   ],
   "source": [
    "processor = evaluator.get_processor()"
   ]
  },
  {
   "cell_type": "code",
   "execution_count": 19,
   "metadata": {},
   "outputs": [
    {
     "name": "stdout",
     "output_type": "stream",
     "text": [
      "eval type is not all\n"
     ]
    }
   ],
   "source": [
    "test_subjects = evaluator.get_test_subjects()"
   ]
  },
  {
   "cell_type": "code",
   "execution_count": 20,
   "metadata": {},
   "outputs": [
    {
     "name": "stdout",
     "output_type": "stream",
     "text": [
      "lenght of the test dataset: 73\n"
     ]
    }
   ],
   "source": [
    "records = evaluator.get_records(processor, test_subjects)"
   ]
  },
  {
   "cell_type": "code",
   "execution_count": 23,
   "metadata": {},
   "outputs": [
    {
     "name": "stdout",
     "output_type": "stream",
     "text": [
      "input shape: torch.Size([1, 1, 96, 78, 78])\n"
     ]
    }
   ],
   "source": [
    "# How to get output from the model\n",
    "# get one sample record\n",
    "sample_record = records[0]\n",
    "model_inputs = evaluator.process_input(processor, sample_record)\n",
    "input_img = model_inputs['original'] # you can also get flipped one by model_inputs['flipped']\n",
    "output_class, output_prob = evaluator.process_output(model, input_img)\n"
   ]
  },
  {
   "cell_type": "code",
   "execution_count": 24,
   "metadata": {},
   "outputs": [
    {
     "data": {
      "text/plain": [
       "'0'"
      ]
     },
     "execution_count": 24,
     "metadata": {},
     "output_type": "execute_result"
    }
   ],
   "source": [
    "output_class"
   ]
  },
  {
   "cell_type": "code",
   "execution_count": null,
   "metadata": {},
   "outputs": [],
   "source": []
  }
 ],
 "metadata": {
  "kernelspec": {
   "display_name": "env-arda",
   "language": "python",
   "name": "env-arda"
  },
  "language_info": {
   "codemirror_mode": {
    "name": "ipython",
    "version": 3
   },
   "file_extension": ".py",
   "mimetype": "text/x-python",
   "name": "python",
   "nbconvert_exporter": "python",
   "pygments_lexer": "ipython3",
   "version": "3.10.11"
  },
  "orig_nbformat": 4
 },
 "nbformat": 4,
 "nbformat_minor": 2
}
