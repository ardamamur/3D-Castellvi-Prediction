{
 "cells": [
  {
   "cell_type": "code",
   "execution_count": 1,
   "metadata": {},
   "outputs": [],
   "source": [
    "import os, sys\n",
    "import torch\n",
    "import argparse\n",
    "from scipy import ndimage"
   ]
  },
  {
   "cell_type": "code",
   "execution_count": 2,
   "metadata": {},
   "outputs": [],
   "source": [
    "#!export PYTHONPATH=$PYTHONPATH:/data1/practical-sose23/castellvi/castellvi_prediction/bids\n",
    "sys.path.append('/data1/practical-sose23/castellvi/castellvi_prediction/bids')"
   ]
  },
  {
   "cell_type": "code",
   "execution_count": 3,
   "metadata": {},
   "outputs": [
    {
     "name": "stderr",
     "output_type": "stream",
     "text": [
      "####################################\n",
      "/u/home/ank/.conda/envs/myenv/lib/python3.10/site-packages/tqdm/auto.py:21: TqdmWarning: IProgress not found. Please update jupyter and ipywidgets. See https://ipywidgets.readthedocs.io/en/stable/user_install.html\n",
      "  from .autonotebook import tqdm as notebook_tqdm\n",
      "  File \"/u/home/ank/.conda/envs/myenv/lib/python3.10/runpy.py\", line 196, in _run_module_as_main\n",
      "    return _run_code(code, main_globals, None,\n",
      "  File \"/u/home/ank/.conda/envs/myenv/lib/python3.10/runpy.py\", line 86, in _run_code\n",
      "    exec(code, run_globals)\n",
      "  File \"/u/home/ank/.conda/envs/myenv/lib/python3.10/site-packages/ipykernel_launcher.py\", line 17, in <module>\n",
      "    app.launch_new_instance()\n",
      "  File \"/u/home/ank/.conda/envs/myenv/lib/python3.10/site-packages/traitlets/config/application.py\", line 1043, in launch_instance\n",
      "    app.start()\n",
      "  File \"/u/home/ank/.conda/envs/myenv/lib/python3.10/site-packages/ipykernel/kernelapp.py\", line 712, in start\n",
      "    self.io_loop.start()\n",
      "  File \"/u/home/ank/.conda/envs/myenv/lib/python3.10/site-packages/tornado/platform/asyncio.py\", line 199, in start\n",
      "    self.asyncio_loop.run_forever()\n",
      "  File \"/u/home/ank/.conda/envs/myenv/lib/python3.10/asyncio/base_events.py\", line 603, in run_forever\n",
      "    self._run_once()\n",
      "  File \"/u/home/ank/.conda/envs/myenv/lib/python3.10/asyncio/base_events.py\", line 1909, in _run_once\n",
      "    handle._run()\n",
      "  File \"/u/home/ank/.conda/envs/myenv/lib/python3.10/asyncio/events.py\", line 80, in _run\n",
      "    self._context.run(self._callback, *self._args)\n",
      "  File \"/u/home/ank/.conda/envs/myenv/lib/python3.10/site-packages/ipykernel/kernelbase.py\", line 510, in dispatch_queue\n",
      "    await self.process_one()\n",
      "  File \"/u/home/ank/.conda/envs/myenv/lib/python3.10/site-packages/ipykernel/kernelbase.py\", line 499, in process_one\n",
      "    await dispatch(*args)\n",
      "  File \"/u/home/ank/.conda/envs/myenv/lib/python3.10/site-packages/ipykernel/kernelbase.py\", line 406, in dispatch_shell\n",
      "    await result\n",
      "  File \"/u/home/ank/.conda/envs/myenv/lib/python3.10/site-packages/ipykernel/kernelbase.py\", line 730, in execute_request\n",
      "    reply_content = await reply_content\n",
      "  File \"/u/home/ank/.conda/envs/myenv/lib/python3.10/site-packages/ipykernel/ipkernel.py\", line 383, in do_execute\n",
      "    res = shell.run_cell(\n",
      "  File \"/u/home/ank/.conda/envs/myenv/lib/python3.10/site-packages/ipykernel/zmqshell.py\", line 528, in run_cell\n",
      "    return super().run_cell(*args, **kwargs)\n",
      "  File \"/u/home/ank/.conda/envs/myenv/lib/python3.10/site-packages/IPython/core/interactiveshell.py\", line 3009, in run_cell\n",
      "    result = self._run_cell(\n",
      "  File \"/u/home/ank/.conda/envs/myenv/lib/python3.10/site-packages/IPython/core/interactiveshell.py\", line 3064, in _run_cell\n",
      "    result = runner(coro)\n",
      "  File \"/u/home/ank/.conda/envs/myenv/lib/python3.10/site-packages/IPython/core/async_helpers.py\", line 129, in _pseudo_sync_runner\n",
      "    coro.send(None)\n",
      "  File \"/u/home/ank/.conda/envs/myenv/lib/python3.10/site-packages/IPython/core/interactiveshell.py\", line 3269, in run_cell_async\n",
      "    has_raised = await self.run_ast_nodes(code_ast.body, cell_name,\n",
      "  File \"/u/home/ank/.conda/envs/myenv/lib/python3.10/site-packages/IPython/core/interactiveshell.py\", line 3448, in run_ast_nodes\n",
      "    if await self.run_code(code, result, async_=asy):\n",
      "  File \"/u/home/ank/.conda/envs/myenv/lib/python3.10/site-packages/IPython/core/interactiveshell.py\", line 3508, in run_code\n",
      "    exec(code_obj, self.user_global_ns, self.user_ns)\n",
      "  File \"/tmp/ipykernel_3826025/994605332.py\", line 3, in <module>\n",
      "    from utils._prepare_data import DataHandler\n",
      "  File \"<frozen importlib._bootstrap>\", line 1027, in _find_and_load\n",
      "  File \"<frozen importlib._bootstrap>\", line 992, in _find_and_load_unlocked\n",
      "  File \"<frozen importlib._bootstrap>\", line 241, in _call_with_frames_removed\n",
      "  File \"<frozen importlib._bootstrap>\", line 1027, in _find_and_load\n",
      "  File \"<frozen importlib._bootstrap>\", line 1006, in _find_and_load_unlocked\n",
      "  File \"<frozen importlib._bootstrap>\", line 688, in _load_unlocked\n",
      "  File \"<frozen importlib._bootstrap_external>\", line 883, in exec_module\n",
      "  File \"<frozen importlib._bootstrap>\", line 241, in _call_with_frames_removed\n",
      "  File \"/u/home/ank/3D-Castellvi-Prediction/src/utils/__init__.py\", line 2, in <module>\n",
      "    from ._prepare_data import DataHandler\n",
      "  File \"<frozen importlib._bootstrap>\", line 1027, in _find_and_load\n",
      "  File \"<frozen importlib._bootstrap>\", line 1006, in _find_and_load_unlocked\n",
      "  File \"<frozen importlib._bootstrap>\", line 688, in _load_unlocked\n",
      "  File \"<frozen importlib._bootstrap_external>\", line 883, in exec_module\n",
      "  File \"<frozen importlib._bootstrap>\", line 241, in _call_with_frames_removed\n",
      "  File \"/u/home/ank/3D-Castellvi-Prediction/src/utils/_prepare_data.py\", line 8, in <module>\n",
      "    from pqdm.processes import pqdm\n",
      "  File \"<frozen importlib._bootstrap>\", line 1027, in _find_and_load\n",
      "  File \"<frozen importlib._bootstrap>\", line 1006, in _find_and_load_unlocked\n",
      "  File \"<frozen importlib._bootstrap>\", line 688, in _load_unlocked\n",
      "  File \"<frozen importlib._bootstrap_external>\", line 883, in exec_module\n",
      "  File \"<frozen importlib._bootstrap>\", line 241, in _call_with_frames_removed\n",
      "  File \"/u/home/ank/.conda/envs/myenv/lib/python3.10/site-packages/pqdm/processes.py\", line 6, in <module>\n",
      "    from tqdm.auto import tqdm as tqdm_auto\n",
      "  File \"<frozen importlib._bootstrap>\", line 1027, in _find_and_load\n",
      "  File \"<frozen importlib._bootstrap>\", line 1006, in _find_and_load_unlocked\n",
      "  File \"<frozen importlib._bootstrap>\", line 688, in _load_unlocked\n",
      "  File \"<frozen importlib._bootstrap_external>\", line 883, in exec_module\n",
      "  File \"<frozen importlib._bootstrap>\", line 241, in _call_with_frames_removed\n",
      "  File \"/u/home/ank/.conda/envs/myenv/lib/python3.10/site-packages/tqdm/auto.py\", line 21, in <module>\n",
      "    from .autonotebook import tqdm as notebook_tqdm\n",
      "  File \"<frozen importlib._bootstrap>\", line 1027, in _find_and_load\n",
      "  File \"<frozen importlib._bootstrap>\", line 1006, in _find_and_load_unlocked\n",
      "  File \"<frozen importlib._bootstrap>\", line 688, in _load_unlocked\n",
      "  File \"<frozen importlib._bootstrap_external>\", line 883, in exec_module\n",
      "  File \"<frozen importlib._bootstrap>\", line 241, in _call_with_frames_removed\n",
      "  File \"/u/home/ank/.conda/envs/myenv/lib/python3.10/site-packages/tqdm/autonotebook.py\", line 19, in <module>\n",
      "    warn(WARN_NOIPYW, TqdmWarning, stacklevel=2)\n",
      "####################################\n"
     ]
    }
   ],
   "source": [
    "import pytorch_lightning as pl\n",
    "from pytorch_lightning.callbacks import ModelCheckpoint\n",
    "from utils._prepare_data import DataHandler\n",
    "from modules.ResNetModule import ResNet\n",
    "from modules.VerSeDataModule import VerSeDataModule\n",
    "from modules.DenseNetModule import DenseNet\n",
    "from modules.DenseNetModule_v2 import DenseNetV2\n",
    "from utils.environment_settings import env_settings\n",
    "import torch\n",
    "from torch import nn"
   ]
  },
  {
   "cell_type": "code",
   "execution_count": 4,
   "metadata": {},
   "outputs": [
    {
     "name": "stdout",
     "output_type": "stream",
     "text": [
      "Running on GPU #0\n"
     ]
    }
   ],
   "source": [
    "os.environ[\"CUDA_VISIBLE_DEVICES\"] = str(env_settings.CUDA_VISIBLE_DEVICES)\n",
    "if torch.cuda.is_available():\n",
    "    print('Running on GPU #' + str(torch.cuda.current_device()))"
   ]
  },
  {
   "cell_type": "code",
   "execution_count": 5,
   "metadata": {},
   "outputs": [],
   "source": [
    "parser = argparse.ArgumentParser(description='Evaluation settings')\n",
    "\n",
    "parser = argparse.ArgumentParser(description='Evaluation settings')\n",
    "parser.add_argument('--data_root', nargs='+', default=[str(os.path.join(env_settings.DATA, 'dataset-verse19')),\n",
    "                                                        str(os.path.join(env_settings.DATA, 'dataset-verse20')),\n",
    "                                                        str(os.path.join(env_settings.DATA, 'dataset-tri'))])\n",
    "parser.add_argument('--data_types', nargs='+', default=['rawdata', 'derivatives'])\n",
    "parser.add_argument('--img_types', nargs='+', default=['ct', 'subreg', 'cortex'])\n",
    "parser.add_argument('--master_list', default= str(os.path.join(env_settings.ROOT, 'src/dataset/Castellvi_list_Final_Split.xlsx')))\n",
    "parser.add_argument('--classification_type', default='right_side')\n",
    "parser.add_argument('--castellvi_classes', nargs='+', default=['1a', '1b', '2a', '2b', '3a', '3b', '4', '0'])\n",
    "parser.add_argument('--model', default='densenet')\n",
    "parser.add_argument('--phase', default='train')\n",
    "parser.add_argument('--scheduler', default='ReduceLROnPlateau')\n",
    "parser.add_argument('--optimizer', default='AdamW')\n",
    "parser.add_argument('--learning_rate', type=float, default=0.0001)\n",
    "parser.add_argument('--weight_decay', type=float, default=0.0001)\n",
    "parser.add_argument('--total_iterations', type=int, default=100)\n",
    "parser.add_argument('--batch_size', type=int, default=8)\n",
    "parser.add_argument('--accumulate_grad_batches', type=int, default=1)\n",
    "parser.add_argument('--num_workers', type=int, default=8)\n",
    "parser.add_argument('--save_intervals', type=int, default=10)\n",
    "parser.add_argument('--n_epochs', type=int, default=100)\n",
    "parser.add_argument('--resume_path', default='')\n",
    "parser.add_argument('--experiments', default=env_settings.EXPERIMENTS)\n",
    "parser.add_argument('--gpu_id', default='0')\n",
    "parser.add_argument('--n_devices', type=int, default=1)\n",
    "parser.add_argument('--manual_seed', type=int, default=1)\n",
    "parser.add_argument('--num_classes', type=int, default=3)\n",
    "parser.add_argument('--port', type=int, default=2023)\n",
    "parser.add_argument('--model_type', type=str, default='')\n",
    "parser.add_argument('--dropout_prob', type=float, default=0.3)\n",
    "\n",
    "\n",
    "parser.add_argument('--rotate_range', type=int, default=10)\n",
    "parser.add_argument('--shear_range', type=float, default=0.2)\n",
    "parser.add_argument('--translate_range', type=float, default=0.15)\n",
    "parser.add_argument('--scale_range', nargs='+', default=[0.9, 1.1])\n",
    "parser.add_argument('--aug_prob', type=float, default=0.5)\n",
    "\n",
    "parser.add_argument('--use_seg', default=True)\n",
    "parser.add_argument('--no_cuda', default=False)\n",
    "parser.add_argument('--weighted_sample', default=True)\n",
    "parser.add_argument('--weighted_loss', default=False)\n",
    "parser.add_argument('--flip_all', default=True)\n",
    "parser.add_argument('--cross_validation',default=False)\n",
    "parser.add_argument('--use_bin_seg', default=True)\n",
    "parser.add_argument('--use_zero_out',default=True)\n",
    "\n",
    "parser.add_argument('--elastic_transform', default=True)\n",
    "parser.add_argument('--seg_comparison', default=False)\n",
    "\n",
    "parser.add_argument('--version_no', type=int, default=10)\n",
    "parser.add_argument('--dataset', nargs='+', default=['verse', 'tri'])\n",
    "parser.add_argument('--eval_type', type=str, default='test')\n",
    "\n",
    "params, unknown = parser.parse_known_args()\n"
   ]
  },
  {
   "cell_type": "code",
   "execution_count": 12,
   "metadata": {},
   "outputs": [],
   "source": [
    "base_experiment = params.experiments + 'baseline_models/' + params.model + '_v0'\n",
    "ckpt_path = base_experiment + '/best_models/version_' + str(params.version_no)\n",
    "best_model= os.listdir(ckpt_path)[0]\n",
    "best_model_path = os.path.join(ckpt_path, best_model)"
   ]
  },
  {
   "cell_type": "code",
   "execution_count": 13,
   "metadata": {},
   "outputs": [],
   "source": [
    "from eval import Eval\n"
   ]
  },
  {
   "cell_type": "code",
   "execution_count": 14,
   "metadata": {},
   "outputs": [],
   "source": [
    "evaluator = Eval(params)\n",
    "best_model= os.listdir(ckpt_path)[0]\n",
    "best_model_path = os.path.join(ckpt_path, best_model)"
   ]
  },
  {
   "cell_type": "code",
   "execution_count": 15,
   "metadata": {},
   "outputs": [
    {
     "name": "stdout",
     "output_type": "stream",
     "text": [
      "DenseNet loaded with 3 classes, data_size (96, 78, 78) and 1 channel\n"
     ]
    }
   ],
   "source": [
    "model = evaluator.load_model(best_model_path, params)"
   ]
  },
  {
   "cell_type": "code",
   "execution_count": 16,
   "metadata": {},
   "outputs": [
    {
     "name": "stdout",
     "output_type": "stream",
     "text": [
      "[!] Unknown format seg-ano in file sub-verse649_dir-sag_seg-ano.nii.gz\n",
      "[!] Unknown format iso-ctd in file sub-verse616_dir-iso_iso-ctd.json\n",
      "[!] \"template\" is not a valid key/value pair. Expected \"KEY-VALUE\" in sub-verse519_template_sacrum_msk.nii.gz\n",
      "[!] \"sacrum\" is not a valid key/value pair. Expected \"KEY-VALUE\" in sub-verse519_template_sacrum_msk.nii.gz\n",
      "[!] Unknown format subreg in file verse559_CT-sag_seg-ano_subreg.nii.gz\n",
      "[!] \"verse559\" is not a valid key/value pair. Expected \"KEY-VALUE\" in verse559_CT-sag_seg-ano_subreg.nii.gz\n",
      "[!] \"verse559\" is not a valid key/value pair. Expected \"KEY-VALUE\" in verse559_CT-sag_seg-ano.nii.gz\n",
      "[!] \"verse549\" is not a valid key/value pair. Expected \"KEY-VALUE\" in verse549_CT-iso_seg-ano.nii.gz\n",
      "[!] Unknown format ce-ar in file sub-tri106_ce-ar.nii.gz\n",
      "[!] Unknown format ce-pv in file sub-tri066_ce-pv.nii.gz\n",
      "[!] Unknown format ce-ne in file sub-tri067_ce-ne.nii.gz\n",
      "[!] Unknown format ce-late in file sub-tri023_ce-late.nii.gz\n",
      "[!] Unknown format stat in file sub-tri106_ce-pv_seg-total_stat.json\n"
     ]
    }
   ],
   "source": [
    "processor = evaluator.get_processor()"
   ]
  },
  {
   "cell_type": "code",
   "execution_count": 17,
   "metadata": {},
   "outputs": [
    {
     "name": "stdout",
     "output_type": "stream",
     "text": [
      "eval type is not all\n"
     ]
    }
   ],
   "source": [
    "test_subjects = evaluator.get_test_subjects()"
   ]
  },
  {
   "cell_type": "code",
   "execution_count": 18,
   "metadata": {},
   "outputs": [
    {
     "name": "stdout",
     "output_type": "stream",
     "text": [
      "lenght of the test dataset: 73\n"
     ]
    }
   ],
   "source": [
    "records = evaluator.get_records(processor, test_subjects)"
   ]
  },
  {
   "cell_type": "code",
   "execution_count": 19,
   "metadata": {},
   "outputs": [
    {
     "name": "stdout",
     "output_type": "stream",
     "text": [
      "input shape: torch.Size([1, 1, 96, 78, 78])\n"
     ]
    }
   ],
   "source": [
    "# How to get output from the model\n",
    "# get one sample record\n",
    "sample_record = records[0]\n",
    "model_inputs = evaluator.process_input(processor, sample_record)\n",
    "input_img = model_inputs['original'] # you can also get flipped one by model_inputs['flipped']\n",
    "output_class, output_prob = evaluator.process_output(model, input_img)\n"
   ]
  },
  {
   "cell_type": "code",
   "execution_count": 20,
   "metadata": {},
   "outputs": [
    {
     "data": {
      "text/plain": [
       "'0'"
      ]
     },
     "execution_count": 20,
     "metadata": {},
     "output_type": "execute_result"
    }
   ],
   "source": [
    "output_class"
   ]
  },
  {
   "cell_type": "code",
   "execution_count": 21,
   "metadata": {},
   "outputs": [],
   "source": [
    "import monai\n",
    "#from monai.networks.utils import eval_mode\n",
    "from monai.transforms import (\n",
    "    AddChannel, Compose, LoadImage, RandRotate90, NormalizeIntensity, RandScaleIntensity,\n",
    "    Resize, ScaleIntensityRange, ToTensor, ScaleIntensity, RandShiftIntensity,CropForeground,\n",
    "    RandFlip, RandSpatialCrop, ResizeWithPadOrCrop, Spacing, ThresholdIntensity, Orientation\n",
    ")\n",
    "from monai.metrics import compute_roc_auc"
   ]
  },
  {
   "cell_type": "code",
   "execution_count": 22,
   "metadata": {},
   "outputs": [],
   "source": [
    "device = torch.device(\"cuda\" if torch.cuda.is_available() else \"cpu\")"
   ]
  },
  {
   "cell_type": "code",
   "execution_count": 23,
   "metadata": {},
   "outputs": [
    {
     "name": "stdout",
     "output_type": "stream",
     "text": [
      "original feature shape torch.Size([1, 1, 3, 2, 2])\n",
      "upsampled feature shape [1, 1, 96, 78, 78] cuda\n"
     ]
    }
   ],
   "source": [
    "campp = monai.visualize.GradCAMpp(nn_module = model, target_layers = \"network.features.denseblock4.denselayer32.layers.conv2\", )\n",
    "win_size = (96, 78, 78)\n",
    "print(\"original feature shape\", campp.feature_map_size([1, 1] + list(win_size), device) )\n",
    "print(\"upsampled feature shape\", [1, 1] + list(win_size), device)"
   ]
  },
  {
   "cell_type": "code",
   "execution_count": 24,
   "metadata": {},
   "outputs": [],
   "source": [
    "def get_layer_names(model):\n",
    "    layer_names = []\n",
    "    for name, _ in model.named_parameters():\n",
    "        # Split the name by '.' and keep the first part\n",
    "        layer_name = name\n",
    "        if layer_name not in layer_names:\n",
    "            layer_names.append(layer_name)\n",
    "    return layer_names"
   ]
  },
  {
   "cell_type": "code",
   "execution_count": 25,
   "metadata": {},
   "outputs": [],
   "source": [
    "layer_names = get_layer_names(model)"
   ]
  },
  {
   "cell_type": "code",
   "execution_count": 26,
   "metadata": {},
   "outputs": [
    {
     "name": "stdout",
     "output_type": "stream",
     "text": [
      "0 network.features.conv0.weight\n",
      "5 network.features.denseblock1.denselayer1.layers.conv1.weight\n",
      "8 network.features.denseblock1.denselayer1.layers.conv2.weight\n",
      "11 network.features.denseblock1.denselayer2.layers.conv1.weight\n",
      "14 network.features.denseblock1.denselayer2.layers.conv2.weight\n",
      "17 network.features.denseblock1.denselayer3.layers.conv1.weight\n",
      "20 network.features.denseblock1.denselayer3.layers.conv2.weight\n",
      "23 network.features.denseblock1.denselayer4.layers.conv1.weight\n",
      "26 network.features.denseblock1.denselayer4.layers.conv2.weight\n",
      "29 network.features.denseblock1.denselayer5.layers.conv1.weight\n",
      "32 network.features.denseblock1.denselayer5.layers.conv2.weight\n",
      "35 network.features.denseblock1.denselayer6.layers.conv1.weight\n",
      "38 network.features.denseblock1.denselayer6.layers.conv2.weight\n",
      "41 network.features.transition1.conv.weight\n",
      "44 network.features.denseblock2.denselayer1.layers.conv1.weight\n",
      "47 network.features.denseblock2.denselayer1.layers.conv2.weight\n",
      "50 network.features.denseblock2.denselayer2.layers.conv1.weight\n",
      "53 network.features.denseblock2.denselayer2.layers.conv2.weight\n",
      "56 network.features.denseblock2.denselayer3.layers.conv1.weight\n",
      "59 network.features.denseblock2.denselayer3.layers.conv2.weight\n",
      "62 network.features.denseblock2.denselayer4.layers.conv1.weight\n",
      "65 network.features.denseblock2.denselayer4.layers.conv2.weight\n",
      "68 network.features.denseblock2.denselayer5.layers.conv1.weight\n",
      "71 network.features.denseblock2.denselayer5.layers.conv2.weight\n",
      "74 network.features.denseblock2.denselayer6.layers.conv1.weight\n",
      "77 network.features.denseblock2.denselayer6.layers.conv2.weight\n",
      "80 network.features.denseblock2.denselayer7.layers.conv1.weight\n",
      "83 network.features.denseblock2.denselayer7.layers.conv2.weight\n",
      "86 network.features.denseblock2.denselayer8.layers.conv1.weight\n",
      "89 network.features.denseblock2.denselayer8.layers.conv2.weight\n",
      "92 network.features.denseblock2.denselayer9.layers.conv1.weight\n",
      "95 network.features.denseblock2.denselayer9.layers.conv2.weight\n",
      "98 network.features.denseblock2.denselayer10.layers.conv1.weight\n",
      "101 network.features.denseblock2.denselayer10.layers.conv2.weight\n",
      "104 network.features.denseblock2.denselayer11.layers.conv1.weight\n",
      "107 network.features.denseblock2.denselayer11.layers.conv2.weight\n",
      "110 network.features.denseblock2.denselayer12.layers.conv1.weight\n",
      "113 network.features.denseblock2.denselayer12.layers.conv2.weight\n",
      "116 network.features.transition2.conv.weight\n",
      "119 network.features.denseblock3.denselayer1.layers.conv1.weight\n",
      "122 network.features.denseblock3.denselayer1.layers.conv2.weight\n",
      "125 network.features.denseblock3.denselayer2.layers.conv1.weight\n",
      "128 network.features.denseblock3.denselayer2.layers.conv2.weight\n",
      "131 network.features.denseblock3.denselayer3.layers.conv1.weight\n",
      "134 network.features.denseblock3.denselayer3.layers.conv2.weight\n",
      "137 network.features.denseblock3.denselayer4.layers.conv1.weight\n",
      "140 network.features.denseblock3.denselayer4.layers.conv2.weight\n",
      "143 network.features.denseblock3.denselayer5.layers.conv1.weight\n",
      "146 network.features.denseblock3.denselayer5.layers.conv2.weight\n",
      "149 network.features.denseblock3.denselayer6.layers.conv1.weight\n",
      "152 network.features.denseblock3.denselayer6.layers.conv2.weight\n",
      "155 network.features.denseblock3.denselayer7.layers.conv1.weight\n",
      "158 network.features.denseblock3.denselayer7.layers.conv2.weight\n",
      "161 network.features.denseblock3.denselayer8.layers.conv1.weight\n",
      "164 network.features.denseblock3.denselayer8.layers.conv2.weight\n",
      "167 network.features.denseblock3.denselayer9.layers.conv1.weight\n",
      "170 network.features.denseblock3.denselayer9.layers.conv2.weight\n",
      "173 network.features.denseblock3.denselayer10.layers.conv1.weight\n",
      "176 network.features.denseblock3.denselayer10.layers.conv2.weight\n",
      "179 network.features.denseblock3.denselayer11.layers.conv1.weight\n",
      "182 network.features.denseblock3.denselayer11.layers.conv2.weight\n",
      "185 network.features.denseblock3.denselayer12.layers.conv1.weight\n",
      "188 network.features.denseblock3.denselayer12.layers.conv2.weight\n",
      "191 network.features.denseblock3.denselayer13.layers.conv1.weight\n",
      "194 network.features.denseblock3.denselayer13.layers.conv2.weight\n",
      "197 network.features.denseblock3.denselayer14.layers.conv1.weight\n",
      "200 network.features.denseblock3.denselayer14.layers.conv2.weight\n",
      "203 network.features.denseblock3.denselayer15.layers.conv1.weight\n",
      "206 network.features.denseblock3.denselayer15.layers.conv2.weight\n",
      "209 network.features.denseblock3.denselayer16.layers.conv1.weight\n",
      "212 network.features.denseblock3.denselayer16.layers.conv2.weight\n",
      "215 network.features.denseblock3.denselayer17.layers.conv1.weight\n",
      "218 network.features.denseblock3.denselayer17.layers.conv2.weight\n",
      "221 network.features.denseblock3.denselayer18.layers.conv1.weight\n",
      "224 network.features.denseblock3.denselayer18.layers.conv2.weight\n",
      "227 network.features.denseblock3.denselayer19.layers.conv1.weight\n",
      "230 network.features.denseblock3.denselayer19.layers.conv2.weight\n",
      "233 network.features.denseblock3.denselayer20.layers.conv1.weight\n",
      "236 network.features.denseblock3.denselayer20.layers.conv2.weight\n",
      "239 network.features.denseblock3.denselayer21.layers.conv1.weight\n",
      "242 network.features.denseblock3.denselayer21.layers.conv2.weight\n",
      "245 network.features.denseblock3.denselayer22.layers.conv1.weight\n",
      "248 network.features.denseblock3.denselayer22.layers.conv2.weight\n",
      "251 network.features.denseblock3.denselayer23.layers.conv1.weight\n",
      "254 network.features.denseblock3.denselayer23.layers.conv2.weight\n",
      "257 network.features.denseblock3.denselayer24.layers.conv1.weight\n",
      "260 network.features.denseblock3.denselayer24.layers.conv2.weight\n",
      "263 network.features.denseblock3.denselayer25.layers.conv1.weight\n",
      "266 network.features.denseblock3.denselayer25.layers.conv2.weight\n",
      "269 network.features.denseblock3.denselayer26.layers.conv1.weight\n",
      "272 network.features.denseblock3.denselayer26.layers.conv2.weight\n",
      "275 network.features.denseblock3.denselayer27.layers.conv1.weight\n",
      "278 network.features.denseblock3.denselayer27.layers.conv2.weight\n",
      "281 network.features.denseblock3.denselayer28.layers.conv1.weight\n",
      "284 network.features.denseblock3.denselayer28.layers.conv2.weight\n",
      "287 network.features.denseblock3.denselayer29.layers.conv1.weight\n",
      "290 network.features.denseblock3.denselayer29.layers.conv2.weight\n",
      "293 network.features.denseblock3.denselayer30.layers.conv1.weight\n",
      "296 network.features.denseblock3.denselayer30.layers.conv2.weight\n",
      "299 network.features.denseblock3.denselayer31.layers.conv1.weight\n",
      "302 network.features.denseblock3.denselayer31.layers.conv2.weight\n",
      "305 network.features.denseblock3.denselayer32.layers.conv1.weight\n",
      "308 network.features.denseblock3.denselayer32.layers.conv2.weight\n",
      "311 network.features.transition3.conv.weight\n",
      "314 network.features.denseblock4.denselayer1.layers.conv1.weight\n",
      "317 network.features.denseblock4.denselayer1.layers.conv2.weight\n",
      "320 network.features.denseblock4.denselayer2.layers.conv1.weight\n",
      "323 network.features.denseblock4.denselayer2.layers.conv2.weight\n",
      "326 network.features.denseblock4.denselayer3.layers.conv1.weight\n",
      "329 network.features.denseblock4.denselayer3.layers.conv2.weight\n",
      "332 network.features.denseblock4.denselayer4.layers.conv1.weight\n",
      "335 network.features.denseblock4.denselayer4.layers.conv2.weight\n",
      "338 network.features.denseblock4.denselayer5.layers.conv1.weight\n",
      "341 network.features.denseblock4.denselayer5.layers.conv2.weight\n",
      "344 network.features.denseblock4.denselayer6.layers.conv1.weight\n",
      "347 network.features.denseblock4.denselayer6.layers.conv2.weight\n",
      "350 network.features.denseblock4.denselayer7.layers.conv1.weight\n",
      "353 network.features.denseblock4.denselayer7.layers.conv2.weight\n",
      "356 network.features.denseblock4.denselayer8.layers.conv1.weight\n",
      "359 network.features.denseblock4.denselayer8.layers.conv2.weight\n",
      "362 network.features.denseblock4.denselayer9.layers.conv1.weight\n",
      "365 network.features.denseblock4.denselayer9.layers.conv2.weight\n",
      "368 network.features.denseblock4.denselayer10.layers.conv1.weight\n",
      "371 network.features.denseblock4.denselayer10.layers.conv2.weight\n",
      "374 network.features.denseblock4.denselayer11.layers.conv1.weight\n",
      "377 network.features.denseblock4.denselayer11.layers.conv2.weight\n",
      "380 network.features.denseblock4.denselayer12.layers.conv1.weight\n",
      "383 network.features.denseblock4.denselayer12.layers.conv2.weight\n",
      "386 network.features.denseblock4.denselayer13.layers.conv1.weight\n",
      "389 network.features.denseblock4.denselayer13.layers.conv2.weight\n",
      "392 network.features.denseblock4.denselayer14.layers.conv1.weight\n",
      "395 network.features.denseblock4.denselayer14.layers.conv2.weight\n",
      "398 network.features.denseblock4.denselayer15.layers.conv1.weight\n",
      "401 network.features.denseblock4.denselayer15.layers.conv2.weight\n",
      "404 network.features.denseblock4.denselayer16.layers.conv1.weight\n",
      "407 network.features.denseblock4.denselayer16.layers.conv2.weight\n",
      "410 network.features.denseblock4.denselayer17.layers.conv1.weight\n",
      "413 network.features.denseblock4.denselayer17.layers.conv2.weight\n",
      "416 network.features.denseblock4.denselayer18.layers.conv1.weight\n",
      "419 network.features.denseblock4.denselayer18.layers.conv2.weight\n",
      "422 network.features.denseblock4.denselayer19.layers.conv1.weight\n",
      "425 network.features.denseblock4.denselayer19.layers.conv2.weight\n",
      "428 network.features.denseblock4.denselayer20.layers.conv1.weight\n",
      "431 network.features.denseblock4.denselayer20.layers.conv2.weight\n",
      "434 network.features.denseblock4.denselayer21.layers.conv1.weight\n",
      "437 network.features.denseblock4.denselayer21.layers.conv2.weight\n",
      "440 network.features.denseblock4.denselayer22.layers.conv1.weight\n",
      "443 network.features.denseblock4.denselayer22.layers.conv2.weight\n",
      "446 network.features.denseblock4.denselayer23.layers.conv1.weight\n",
      "449 network.features.denseblock4.denselayer23.layers.conv2.weight\n",
      "452 network.features.denseblock4.denselayer24.layers.conv1.weight\n",
      "455 network.features.denseblock4.denselayer24.layers.conv2.weight\n",
      "458 network.features.denseblock4.denselayer25.layers.conv1.weight\n",
      "461 network.features.denseblock4.denselayer25.layers.conv2.weight\n",
      "464 network.features.denseblock4.denselayer26.layers.conv1.weight\n",
      "467 network.features.denseblock4.denselayer26.layers.conv2.weight\n",
      "470 network.features.denseblock4.denselayer27.layers.conv1.weight\n",
      "473 network.features.denseblock4.denselayer27.layers.conv2.weight\n",
      "476 network.features.denseblock4.denselayer28.layers.conv1.weight\n",
      "479 network.features.denseblock4.denselayer28.layers.conv2.weight\n",
      "482 network.features.denseblock4.denselayer29.layers.conv1.weight\n",
      "485 network.features.denseblock4.denselayer29.layers.conv2.weight\n",
      "488 network.features.denseblock4.denselayer30.layers.conv1.weight\n",
      "491 network.features.denseblock4.denselayer30.layers.conv2.weight\n",
      "494 network.features.denseblock4.denselayer31.layers.conv1.weight\n",
      "497 network.features.denseblock4.denselayer31.layers.conv2.weight\n",
      "500 network.features.denseblock4.denselayer32.layers.conv1.weight\n",
      "503 network.features.denseblock4.denselayer32.layers.conv2.weight\n"
     ]
    }
   ],
   "source": [
    "conv_layers_list = []\n",
    "for i in range(len(layer_names)):\n",
    "    layer = layer_names[i]\n",
    "    if 'conv' not in layer:\n",
    "        continue\n",
    "    else:\n",
    "        conv_layers_list.append(layer)\n",
    "    print(i , layer)"
   ]
  },
  {
   "cell_type": "code",
   "execution_count": 27,
   "metadata": {},
   "outputs": [],
   "source": [
    "campp_result = campp( x= input_img , class_idx=None)"
   ]
  },
  {
   "cell_type": "code",
   "execution_count": 29,
   "metadata": {},
   "outputs": [
    {
     "data": {
      "text/plain": [
       "torch.Size([1, 1, 96, 78, 78])"
      ]
     },
     "execution_count": 29,
     "metadata": {},
     "output_type": "execute_result"
    }
   ],
   "source": [
    "campp_result.shape"
   ]
  },
  {
   "cell_type": "code",
   "execution_count": 31,
   "metadata": {},
   "outputs": [],
   "source": [
    "campp_result_3d = campp_result[0][0]"
   ]
  },
  {
   "cell_type": "code",
   "execution_count": 33,
   "metadata": {},
   "outputs": [
    {
     "data": {
      "text/plain": [
       "torch.Size([96, 78, 78])"
      ]
     },
     "execution_count": 33,
     "metadata": {},
     "output_type": "execute_result"
    }
   ],
   "source": [
    "campp_result_3d.shape"
   ]
  },
  {
   "cell_type": "code",
   "execution_count": 34,
   "metadata": {},
   "outputs": [],
   "source": [
    "campp_numpy = campp_result_3d.cpu().detach().numpy()"
   ]
  },
  {
   "cell_type": "code",
   "execution_count": 36,
   "metadata": {},
   "outputs": [
    {
     "data": {
      "text/plain": [
       "(96, 78, 78)"
      ]
     },
     "execution_count": 36,
     "metadata": {},
     "output_type": "execute_result"
    }
   ],
   "source": [
    "campp_numpy.shape"
   ]
  },
  {
   "cell_type": "code",
   "execution_count": 40,
   "metadata": {},
   "outputs": [],
   "source": [
    "import BIDS\n",
    "from BIDS import BIDS_Global_info, BIDS_Family, NII\n",
    "import nibabel as nib"
   ]
  },
  {
   "cell_type": "code",
   "execution_count": 43,
   "metadata": {},
   "outputs": [],
   "source": [
    "import numpy as np"
   ]
  },
  {
   "cell_type": "code",
   "execution_count": 44,
   "metadata": {},
   "outputs": [],
   "source": [
    "def np_to_nifti(np_arr):\n",
    "    affine = np.array([[0,0,1,0], \n",
    "                       [-1,0,0,0], \n",
    "                       [0,-1,0,0], \n",
    "                       [0,0,0,1]])\n",
    "    return BIDS.NII(nib.Nifti1Image(np_arr, affine))"
   ]
  },
  {
   "cell_type": "code",
   "execution_count": 45,
   "metadata": {},
   "outputs": [],
   "source": [
    "seg_file = np_to_nifti(campp_numpy)"
   ]
  },
  {
   "cell_type": "code",
   "execution_count": 46,
   "metadata": {},
   "outputs": [
    {
     "name": "stdout",
     "output_type": "stream",
     "text": [
      "\u001b[96m[*] Save /u/home/ank/3D-Castellvi-Prediction/camp.nii.gz as float32\u001b[0m\n"
     ]
    }
   ],
   "source": [
    "seg_file.save(\"/u/home/ank/3D-Castellvi-Prediction/camp.nii.gz\")"
   ]
  },
  {
   "cell_type": "code",
   "execution_count": 48,
   "metadata": {},
   "outputs": [],
   "source": [
    "camp_result_slice = campp_result[..., 5]"
   ]
  },
  {
   "cell_type": "code",
   "execution_count": 49,
   "metadata": {},
   "outputs": [],
   "source": [
    "camp_result_slice_numpy = camp_result_slice.detach().cpu().numpy()"
   ]
  },
  {
   "cell_type": "code",
   "execution_count": 83,
   "metadata": {},
   "outputs": [],
   "source": [
    "import cv2\n",
    "# Overlay Original image and GradCAM heatmap\n",
    "def superimposed_image_def(camp_results, original_img, alpha = 0.6):\n",
    "    all_images_slices = []\n",
    "    all_heatmap_results = []\n",
    "    print(input_img.shape[2]-1)\n",
    "    for i in range(input_img.shape[-1]):\n",
    "        print(i)\n",
    "        original_image_slice= original_img.detach().cpu().numpy()[..., i]\n",
    "        original_image_slice = original_image_slice[0,0,:,:] \n",
    "        print('original_img shape:', original_image_slice.shape)\n",
    "        print('original_img data type:', original_image_slice.dtype)\n",
    "        # Make 1-channel image to 3-channel : To overlay this image with the heatmap (JET colormap = 3-channels)\n",
    "        original_image_slice = cv2.merge((original_image_slice, original_image_slice, original_image_slice))\n",
    "        camp_result_slice = camp_results.detach().cpu().numpy()[..., i]\n",
    "        camp_result_slice = camp_result_slice[0,0,:,:] # Same above\n",
    "        print('cam_img shape:', camp_result_slice.shape)\n",
    "        print('cam_img data type:', camp_result_slice.dtype)\n",
    "        camp_result_slice = np.maximum(camp_result_slice, 0)\n",
    "\n",
    "\n",
    "        # Convert Class Activation Map to 0 - 255\n",
    "        camp_result_slice = (camp_result_slice - camp_result_slice.min()) / (\n",
    "                camp_result_slice.max() - camp_result_slice.min()\n",
    "        )\n",
    "        camp_result_slice = np.uint8(255 * camp_result_slice)\n",
    "\n",
    "        # Convert to Heatmap ---- JET COLORMAP\n",
    "        camp_result_slice = cv2.applyColorMap(camp_result_slice, cv2.COLORMAP_JET)\n",
    "\n",
    "        # Superimpose Heatmap on Image Data\n",
    "        original_image_slice = np.uint8(\n",
    "            (original_image_slice - original_image_slice.min())\n",
    "            / (original_image_slice.max() - original_image_slice.min())\n",
    "            * 255\n",
    "        )\n",
    "\n",
    "        superimposed_image =np.uint8(np.uint8(original_image_slice) * alpha + camp_result_slice * (1 - alpha))\n",
    "        all_images_slices.append(superimposed_image)\n",
    "        all_heatmap_results.append(camp_result_slice)\n",
    "        \n",
    "\n",
    "    return all_images_slices, all_heatmap_results"
   ]
  },
  {
   "cell_type": "code",
   "execution_count": 84,
   "metadata": {},
   "outputs": [],
   "source": [
    "input_image_slice_numpy = input_img.detach().cpu().numpy()[..., 5]"
   ]
  },
  {
   "cell_type": "code",
   "execution_count": 85,
   "metadata": {},
   "outputs": [
    {
     "name": "stdout",
     "output_type": "stream",
     "text": [
      "95\n",
      "0\n",
      "original_img shape: (96, 78)\n",
      "original_img data type: float32\n",
      "cam_img shape: (96, 78)\n",
      "cam_img data type: float32\n",
      "1\n",
      "original_img shape: (96, 78)\n",
      "original_img data type: float32\n",
      "cam_img shape: (96, 78)\n",
      "cam_img data type: float32\n",
      "2\n",
      "original_img shape: (96, 78)\n",
      "original_img data type: float32\n",
      "cam_img shape: (96, 78)\n",
      "cam_img data type: float32\n",
      "3\n",
      "original_img shape: (96, 78)\n",
      "original_img data type: float32\n",
      "cam_img shape: (96, 78)\n",
      "cam_img data type: float32\n",
      "4\n",
      "original_img shape: (96, 78)\n",
      "original_img data type: float32\n",
      "cam_img shape: (96, 78)\n",
      "cam_img data type: float32\n",
      "5\n",
      "original_img shape: (96, 78)\n",
      "original_img data type: float32\n",
      "cam_img shape: (96, 78)\n",
      "cam_img data type: float32\n",
      "6\n",
      "original_img shape: (96, 78)\n",
      "original_img data type: float32\n",
      "cam_img shape: (96, 78)\n",
      "cam_img data type: float32\n",
      "7\n",
      "original_img shape: (96, 78)\n",
      "original_img data type: float32\n",
      "cam_img shape: (96, 78)\n",
      "cam_img data type: float32\n",
      "8\n",
      "original_img shape: (96, 78)\n",
      "original_img data type: float32\n",
      "cam_img shape: (96, 78)\n",
      "cam_img data type: float32\n",
      "9\n",
      "original_img shape: (96, 78)\n",
      "original_img data type: float32\n",
      "cam_img shape: (96, 78)\n",
      "cam_img data type: float32\n",
      "10\n",
      "original_img shape: (96, 78)\n",
      "original_img data type: float32\n",
      "cam_img shape: (96, 78)\n",
      "cam_img data type: float32\n",
      "11\n",
      "original_img shape: (96, 78)\n",
      "original_img data type: float32\n",
      "cam_img shape: (96, 78)\n",
      "cam_img data type: float32\n",
      "12\n",
      "original_img shape: (96, 78)\n",
      "original_img data type: float32\n",
      "cam_img shape: (96, 78)\n",
      "cam_img data type: float32\n",
      "13\n",
      "original_img shape: (96, 78)\n",
      "original_img data type: float32\n",
      "cam_img shape: (96, 78)\n",
      "cam_img data type: float32\n",
      "14\n",
      "original_img shape: (96, 78)\n",
      "original_img data type: float32\n",
      "cam_img shape: (96, 78)\n",
      "cam_img data type: float32\n",
      "15\n",
      "original_img shape: (96, 78)\n",
      "original_img data type: float32\n",
      "cam_img shape: (96, 78)\n",
      "cam_img data type: float32\n",
      "16\n",
      "original_img shape: (96, 78)\n",
      "original_img data type: float32\n",
      "cam_img shape: (96, 78)\n",
      "cam_img data type: float32\n",
      "17\n",
      "original_img shape: (96, 78)\n",
      "original_img data type: float32\n",
      "cam_img shape: (96, 78)\n",
      "cam_img data type: float32\n",
      "18\n",
      "original_img shape: (96, 78)\n",
      "original_img data type: float32\n",
      "cam_img shape: (96, 78)\n",
      "cam_img data type: float32\n",
      "19\n",
      "original_img shape: (96, 78)\n",
      "original_img data type: float32\n",
      "cam_img shape: (96, 78)\n",
      "cam_img data type: float32\n",
      "20\n",
      "original_img shape: (96, 78)\n",
      "original_img data type: float32\n",
      "cam_img shape: (96, 78)\n",
      "cam_img data type: float32\n",
      "21\n",
      "original_img shape: (96, 78)\n",
      "original_img data type: float32\n",
      "cam_img shape: (96, 78)\n",
      "cam_img data type: float32\n",
      "22\n",
      "original_img shape: (96, 78)\n",
      "original_img data type: float32\n",
      "cam_img shape: (96, 78)\n",
      "cam_img data type: float32\n",
      "23\n",
      "original_img shape: (96, 78)\n",
      "original_img data type: float32\n",
      "cam_img shape: (96, 78)\n",
      "cam_img data type: float32\n",
      "24\n",
      "original_img shape: (96, 78)\n",
      "original_img data type: float32\n",
      "cam_img shape: (96, 78)\n",
      "cam_img data type: float32\n",
      "25\n",
      "original_img shape: (96, 78)\n",
      "original_img data type: float32\n",
      "cam_img shape: (96, 78)\n",
      "cam_img data type: float32\n",
      "26\n",
      "original_img shape: (96, 78)\n",
      "original_img data type: float32\n",
      "cam_img shape: (96, 78)\n",
      "cam_img data type: float32\n",
      "27\n",
      "original_img shape: (96, 78)\n",
      "original_img data type: float32\n",
      "cam_img shape: (96, 78)\n",
      "cam_img data type: float32\n",
      "28\n",
      "original_img shape: (96, 78)\n",
      "original_img data type: float32\n",
      "cam_img shape: (96, 78)\n",
      "cam_img data type: float32\n",
      "29\n",
      "original_img shape: (96, 78)\n",
      "original_img data type: float32\n",
      "cam_img shape: (96, 78)\n",
      "cam_img data type: float32\n",
      "30\n",
      "original_img shape: (96, 78)\n",
      "original_img data type: float32\n",
      "cam_img shape: (96, 78)\n",
      "cam_img data type: float32\n",
      "31\n",
      "original_img shape: (96, 78)\n",
      "original_img data type: float32\n",
      "cam_img shape: (96, 78)\n",
      "cam_img data type: float32\n",
      "32\n",
      "original_img shape: (96, 78)\n",
      "original_img data type: float32\n",
      "cam_img shape: (96, 78)\n",
      "cam_img data type: float32\n",
      "33\n",
      "original_img shape: (96, 78)\n",
      "original_img data type: float32\n",
      "cam_img shape: (96, 78)\n",
      "cam_img data type: float32\n",
      "34\n",
      "original_img shape: (96, 78)\n",
      "original_img data type: float32\n",
      "cam_img shape: (96, 78)\n",
      "cam_img data type: float32\n",
      "35\n",
      "original_img shape: (96, 78)\n",
      "original_img data type: float32\n",
      "cam_img shape: (96, 78)\n",
      "cam_img data type: float32\n",
      "36\n",
      "original_img shape: (96, 78)\n",
      "original_img data type: float32\n",
      "cam_img shape: (96, 78)\n",
      "cam_img data type: float32\n",
      "37\n",
      "original_img shape: (96, 78)\n",
      "original_img data type: float32\n",
      "cam_img shape: (96, 78)\n",
      "cam_img data type: float32\n",
      "38\n",
      "original_img shape: (96, 78)\n",
      "original_img data type: float32\n",
      "cam_img shape: (96, 78)\n",
      "cam_img data type: float32\n",
      "39\n",
      "original_img shape: (96, 78)\n",
      "original_img data type: float32\n",
      "cam_img shape: (96, 78)\n",
      "cam_img data type: float32\n",
      "40\n",
      "original_img shape: (96, 78)\n",
      "original_img data type: float32\n",
      "cam_img shape: (96, 78)\n",
      "cam_img data type: float32\n",
      "41\n",
      "original_img shape: (96, 78)\n",
      "original_img data type: float32\n",
      "cam_img shape: (96, 78)\n",
      "cam_img data type: float32\n",
      "42\n",
      "original_img shape: (96, 78)\n",
      "original_img data type: float32\n",
      "cam_img shape: (96, 78)\n",
      "cam_img data type: float32\n",
      "43\n",
      "original_img shape: (96, 78)\n",
      "original_img data type: float32\n",
      "cam_img shape: (96, 78)\n",
      "cam_img data type: float32\n",
      "44\n",
      "original_img shape: (96, 78)\n",
      "original_img data type: float32\n",
      "cam_img shape: (96, 78)\n",
      "cam_img data type: float32\n",
      "45\n",
      "original_img shape: (96, 78)\n",
      "original_img data type: float32\n",
      "cam_img shape: (96, 78)\n",
      "cam_img data type: float32\n",
      "46\n",
      "original_img shape: (96, 78)\n",
      "original_img data type: float32\n",
      "cam_img shape: (96, 78)\n",
      "cam_img data type: float32\n",
      "47\n",
      "original_img shape: (96, 78)\n",
      "original_img data type: float32\n",
      "cam_img shape: (96, 78)\n",
      "cam_img data type: float32\n",
      "48\n",
      "original_img shape: (96, 78)\n",
      "original_img data type: float32\n",
      "cam_img shape: (96, 78)\n",
      "cam_img data type: float32\n",
      "49\n",
      "original_img shape: (96, 78)\n",
      "original_img data type: float32\n",
      "cam_img shape: (96, 78)\n",
      "cam_img data type: float32\n",
      "50\n",
      "original_img shape: (96, 78)\n",
      "original_img data type: float32\n",
      "cam_img shape: (96, 78)\n",
      "cam_img data type: float32\n",
      "51\n",
      "original_img shape: (96, 78)\n",
      "original_img data type: float32\n",
      "cam_img shape: (96, 78)\n",
      "cam_img data type: float32\n",
      "52\n",
      "original_img shape: (96, 78)\n",
      "original_img data type: float32\n",
      "cam_img shape: (96, 78)\n",
      "cam_img data type: float32\n",
      "53\n",
      "original_img shape: (96, 78)\n",
      "original_img data type: float32\n",
      "cam_img shape: (96, 78)\n",
      "cam_img data type: float32\n",
      "54\n",
      "original_img shape: (96, 78)\n",
      "original_img data type: float32\n",
      "cam_img shape: (96, 78)\n",
      "cam_img data type: float32\n",
      "55\n",
      "original_img shape: (96, 78)\n",
      "original_img data type: float32\n",
      "cam_img shape: (96, 78)\n",
      "cam_img data type: float32\n",
      "56\n",
      "original_img shape: (96, 78)\n",
      "original_img data type: float32\n",
      "cam_img shape: (96, 78)\n",
      "cam_img data type: float32\n",
      "57\n",
      "original_img shape: (96, 78)\n",
      "original_img data type: float32\n",
      "cam_img shape: (96, 78)\n",
      "cam_img data type: float32\n",
      "58\n",
      "original_img shape: (96, 78)\n",
      "original_img data type: float32\n",
      "cam_img shape: (96, 78)\n",
      "cam_img data type: float32\n",
      "59\n",
      "original_img shape: (96, 78)\n",
      "original_img data type: float32\n",
      "cam_img shape: (96, 78)\n",
      "cam_img data type: float32\n",
      "60\n",
      "original_img shape: (96, 78)\n",
      "original_img data type: float32\n",
      "cam_img shape: (96, 78)\n",
      "cam_img data type: float32\n",
      "61\n",
      "original_img shape: (96, 78)\n",
      "original_img data type: float32\n",
      "cam_img shape: (96, 78)\n",
      "cam_img data type: float32\n",
      "62\n",
      "original_img shape: (96, 78)\n",
      "original_img data type: float32\n",
      "cam_img shape: (96, 78)\n",
      "cam_img data type: float32\n",
      "63\n",
      "original_img shape: (96, 78)\n",
      "original_img data type: float32\n",
      "cam_img shape: (96, 78)\n",
      "cam_img data type: float32\n",
      "64\n",
      "original_img shape: (96, 78)\n",
      "original_img data type: float32\n",
      "cam_img shape: (96, 78)\n",
      "cam_img data type: float32\n",
      "65\n",
      "original_img shape: (96, 78)\n",
      "original_img data type: float32\n",
      "cam_img shape: (96, 78)\n",
      "cam_img data type: float32\n",
      "66\n",
      "original_img shape: (96, 78)\n",
      "original_img data type: float32\n",
      "cam_img shape: (96, 78)\n",
      "cam_img data type: float32\n",
      "67\n",
      "original_img shape: (96, 78)\n",
      "original_img data type: float32\n",
      "cam_img shape: (96, 78)\n",
      "cam_img data type: float32\n",
      "68\n",
      "original_img shape: (96, 78)\n",
      "original_img data type: float32\n",
      "cam_img shape: (96, 78)\n",
      "cam_img data type: float32\n",
      "69\n",
      "original_img shape: (96, 78)\n",
      "original_img data type: float32\n",
      "cam_img shape: (96, 78)\n",
      "cam_img data type: float32\n",
      "70\n",
      "original_img shape: (96, 78)\n",
      "original_img data type: float32\n",
      "cam_img shape: (96, 78)\n",
      "cam_img data type: float32\n",
      "71\n",
      "original_img shape: (96, 78)\n",
      "original_img data type: float32\n",
      "cam_img shape: (96, 78)\n",
      "cam_img data type: float32\n",
      "72\n",
      "original_img shape: (96, 78)\n",
      "original_img data type: float32\n",
      "cam_img shape: (96, 78)\n",
      "cam_img data type: float32\n",
      "73\n",
      "original_img shape: (96, 78)\n",
      "original_img data type: float32\n",
      "cam_img shape: (96, 78)\n",
      "cam_img data type: float32\n",
      "74\n",
      "original_img shape: (96, 78)\n",
      "original_img data type: float32\n",
      "cam_img shape: (96, 78)\n",
      "cam_img data type: float32\n",
      "75\n",
      "original_img shape: (96, 78)\n",
      "original_img data type: float32\n",
      "cam_img shape: (96, 78)\n",
      "cam_img data type: float32\n",
      "76\n",
      "original_img shape: (96, 78)\n",
      "original_img data type: float32\n",
      "cam_img shape: (96, 78)\n",
      "cam_img data type: float32\n",
      "77\n",
      "original_img shape: (96, 78)\n",
      "original_img data type: float32\n",
      "cam_img shape: (96, 78)\n",
      "cam_img data type: float32\n"
     ]
    },
    {
     "name": "stderr",
     "output_type": "stream",
     "text": [
      "####################################\n",
      "/tmp/ipykernel_3826025/401259803.py:33: RuntimeWarning: invalid value encountered in divide\n",
      "  (original_image_slice - original_image_slice.min())\n",
      "  File \"/u/home/ank/.conda/envs/myenv/lib/python3.10/runpy.py\", line 196, in _run_module_as_main\n",
      "    return _run_code(code, main_globals, None,\n",
      "  File \"/u/home/ank/.conda/envs/myenv/lib/python3.10/runpy.py\", line 86, in _run_code\n",
      "    exec(code, run_globals)\n",
      "  File \"/u/home/ank/.conda/envs/myenv/lib/python3.10/site-packages/ipykernel_launcher.py\", line 17, in <module>\n",
      "    app.launch_new_instance()\n",
      "  File \"/u/home/ank/.conda/envs/myenv/lib/python3.10/site-packages/traitlets/config/application.py\", line 1043, in launch_instance\n",
      "    app.start()\n",
      "  File \"/u/home/ank/.conda/envs/myenv/lib/python3.10/site-packages/ipykernel/kernelapp.py\", line 712, in start\n",
      "    self.io_loop.start()\n",
      "  File \"/u/home/ank/.conda/envs/myenv/lib/python3.10/site-packages/tornado/platform/asyncio.py\", line 199, in start\n",
      "    self.asyncio_loop.run_forever()\n",
      "  File \"/u/home/ank/.conda/envs/myenv/lib/python3.10/asyncio/base_events.py\", line 603, in run_forever\n",
      "    self._run_once()\n",
      "  File \"/u/home/ank/.conda/envs/myenv/lib/python3.10/asyncio/base_events.py\", line 1909, in _run_once\n",
      "    handle._run()\n",
      "  File \"/u/home/ank/.conda/envs/myenv/lib/python3.10/asyncio/events.py\", line 80, in _run\n",
      "    self._context.run(self._callback, *self._args)\n",
      "  File \"/u/home/ank/.conda/envs/myenv/lib/python3.10/site-packages/ipykernel/kernelbase.py\", line 510, in dispatch_queue\n",
      "    await self.process_one()\n",
      "  File \"/u/home/ank/.conda/envs/myenv/lib/python3.10/site-packages/ipykernel/kernelbase.py\", line 499, in process_one\n",
      "    await dispatch(*args)\n",
      "  File \"/u/home/ank/.conda/envs/myenv/lib/python3.10/site-packages/ipykernel/kernelbase.py\", line 406, in dispatch_shell\n",
      "    await result\n",
      "  File \"/u/home/ank/.conda/envs/myenv/lib/python3.10/site-packages/ipykernel/kernelbase.py\", line 730, in execute_request\n",
      "    reply_content = await reply_content\n",
      "  File \"/u/home/ank/.conda/envs/myenv/lib/python3.10/site-packages/ipykernel/ipkernel.py\", line 383, in do_execute\n",
      "    res = shell.run_cell(\n",
      "  File \"/u/home/ank/.conda/envs/myenv/lib/python3.10/site-packages/ipykernel/zmqshell.py\", line 528, in run_cell\n",
      "    return super().run_cell(*args, **kwargs)\n",
      "  File \"/u/home/ank/.conda/envs/myenv/lib/python3.10/site-packages/IPython/core/interactiveshell.py\", line 3009, in run_cell\n",
      "    result = self._run_cell(\n",
      "  File \"/u/home/ank/.conda/envs/myenv/lib/python3.10/site-packages/IPython/core/interactiveshell.py\", line 3064, in _run_cell\n",
      "    result = runner(coro)\n",
      "  File \"/u/home/ank/.conda/envs/myenv/lib/python3.10/site-packages/IPython/core/async_helpers.py\", line 129, in _pseudo_sync_runner\n",
      "    coro.send(None)\n",
      "  File \"/u/home/ank/.conda/envs/myenv/lib/python3.10/site-packages/IPython/core/interactiveshell.py\", line 3269, in run_cell_async\n",
      "    has_raised = await self.run_ast_nodes(code_ast.body, cell_name,\n",
      "  File \"/u/home/ank/.conda/envs/myenv/lib/python3.10/site-packages/IPython/core/interactiveshell.py\", line 3448, in run_ast_nodes\n",
      "    if await self.run_code(code, result, async_=asy):\n",
      "  File \"/u/home/ank/.conda/envs/myenv/lib/python3.10/site-packages/IPython/core/interactiveshell.py\", line 3508, in run_code\n",
      "    exec(code_obj, self.user_global_ns, self.user_ns)\n",
      "  File \"/tmp/ipykernel_3826025/4047763980.py\", line 1, in <module>\n",
      "    imposed_img , heatmap = superimposed_image_def(campp_result, input_img)\n",
      "  File \"/tmp/ipykernel_3826025/401259803.py\", line 33, in superimposed_image_def\n",
      "    (original_image_slice - original_image_slice.min())\n",
      "####################################\n",
      "####################################\n",
      "/tmp/ipykernel_3826025/401259803.py:32: RuntimeWarning: invalid value encountered in cast\n",
      "  original_image_slice = np.uint8(\n",
      "  File \"/u/home/ank/.conda/envs/myenv/lib/python3.10/runpy.py\", line 196, in _run_module_as_main\n",
      "    return _run_code(code, main_globals, None,\n",
      "  File \"/u/home/ank/.conda/envs/myenv/lib/python3.10/runpy.py\", line 86, in _run_code\n",
      "    exec(code, run_globals)\n",
      "  File \"/u/home/ank/.conda/envs/myenv/lib/python3.10/site-packages/ipykernel_launcher.py\", line 17, in <module>\n",
      "    app.launch_new_instance()\n",
      "  File \"/u/home/ank/.conda/envs/myenv/lib/python3.10/site-packages/traitlets/config/application.py\", line 1043, in launch_instance\n",
      "    app.start()\n",
      "  File \"/u/home/ank/.conda/envs/myenv/lib/python3.10/site-packages/ipykernel/kernelapp.py\", line 712, in start\n",
      "    self.io_loop.start()\n",
      "  File \"/u/home/ank/.conda/envs/myenv/lib/python3.10/site-packages/tornado/platform/asyncio.py\", line 199, in start\n",
      "    self.asyncio_loop.run_forever()\n",
      "  File \"/u/home/ank/.conda/envs/myenv/lib/python3.10/asyncio/base_events.py\", line 603, in run_forever\n",
      "    self._run_once()\n",
      "  File \"/u/home/ank/.conda/envs/myenv/lib/python3.10/asyncio/base_events.py\", line 1909, in _run_once\n",
      "    handle._run()\n",
      "  File \"/u/home/ank/.conda/envs/myenv/lib/python3.10/asyncio/events.py\", line 80, in _run\n",
      "    self._context.run(self._callback, *self._args)\n",
      "  File \"/u/home/ank/.conda/envs/myenv/lib/python3.10/site-packages/ipykernel/kernelbase.py\", line 510, in dispatch_queue\n",
      "    await self.process_one()\n",
      "  File \"/u/home/ank/.conda/envs/myenv/lib/python3.10/site-packages/ipykernel/kernelbase.py\", line 499, in process_one\n",
      "    await dispatch(*args)\n",
      "  File \"/u/home/ank/.conda/envs/myenv/lib/python3.10/site-packages/ipykernel/kernelbase.py\", line 406, in dispatch_shell\n",
      "    await result\n",
      "  File \"/u/home/ank/.conda/envs/myenv/lib/python3.10/site-packages/ipykernel/kernelbase.py\", line 730, in execute_request\n",
      "    reply_content = await reply_content\n",
      "  File \"/u/home/ank/.conda/envs/myenv/lib/python3.10/site-packages/ipykernel/ipkernel.py\", line 383, in do_execute\n",
      "    res = shell.run_cell(\n",
      "  File \"/u/home/ank/.conda/envs/myenv/lib/python3.10/site-packages/ipykernel/zmqshell.py\", line 528, in run_cell\n",
      "    return super().run_cell(*args, **kwargs)\n",
      "  File \"/u/home/ank/.conda/envs/myenv/lib/python3.10/site-packages/IPython/core/interactiveshell.py\", line 3009, in run_cell\n",
      "    result = self._run_cell(\n",
      "  File \"/u/home/ank/.conda/envs/myenv/lib/python3.10/site-packages/IPython/core/interactiveshell.py\", line 3064, in _run_cell\n",
      "    result = runner(coro)\n",
      "  File \"/u/home/ank/.conda/envs/myenv/lib/python3.10/site-packages/IPython/core/async_helpers.py\", line 129, in _pseudo_sync_runner\n",
      "    coro.send(None)\n",
      "  File \"/u/home/ank/.conda/envs/myenv/lib/python3.10/site-packages/IPython/core/interactiveshell.py\", line 3269, in run_cell_async\n",
      "    has_raised = await self.run_ast_nodes(code_ast.body, cell_name,\n",
      "  File \"/u/home/ank/.conda/envs/myenv/lib/python3.10/site-packages/IPython/core/interactiveshell.py\", line 3448, in run_ast_nodes\n",
      "    if await self.run_code(code, result, async_=asy):\n",
      "  File \"/u/home/ank/.conda/envs/myenv/lib/python3.10/site-packages/IPython/core/interactiveshell.py\", line 3508, in run_code\n",
      "    exec(code_obj, self.user_global_ns, self.user_ns)\n",
      "  File \"/tmp/ipykernel_3826025/4047763980.py\", line 1, in <module>\n",
      "    imposed_img , heatmap = superimposed_image_def(campp_result, input_img)\n",
      "  File \"/tmp/ipykernel_3826025/401259803.py\", line 32, in superimposed_image_def\n",
      "    original_image_slice = np.uint8(\n",
      "####################################\n"
     ]
    }
   ],
   "source": [
    "imposed_img , heatmap = superimposed_image_def(campp_result, input_img)"
   ]
  },
  {
   "cell_type": "code",
   "execution_count": 89,
   "metadata": {},
   "outputs": [
    {
     "data": {
      "text/plain": [
       "(96, 78, 3)"
      ]
     },
     "execution_count": 89,
     "metadata": {},
     "output_type": "execute_result"
    }
   ],
   "source": [
    "heatmap[0].shape"
   ]
  },
  {
   "cell_type": "code",
   "execution_count": 96,
   "metadata": {},
   "outputs": [
    {
     "data": {
      "image/png": "[encoded data removed]",
      "text/plain": [
       "<Figure size 640x480 with 1 Axes>"
      ]
     },
     "metadata": {},
     "output_type": "display_data"
    }
   ],
   "source": [
    "import matplotlib.pyplot as plt\n",
    "\n",
    "plt.imshow(heatmap[30])\n",
    "plt.axis('off')  \n",
    "plt.show()"
   ]
  },
  {
   "cell_type": "code",
   "execution_count": 98,
   "metadata": {},
   "outputs": [
    {
     "data": {
      "image/png": "[encoded data removed]",
      "text/plain": [
       "<Figure size 640x480 with 1 Axes>"
      ]
     },
     "metadata": {},
     "output_type": "display_data"
    }
   ],
   "source": [
    "import matplotlib.pyplot as plt\n",
    "\n",
    "plt.imshow(imposed_img[30])\n",
    "plt.axis('off')  \n",
    "plt.show()"
   ]
  },
  {
   "cell_type": "code",
   "execution_count": 100,
   "metadata": {},
   "outputs": [
    {
     "name": "stdout",
     "output_type": "stream",
     "text": [
      "2023-07-13 23:11:02,687 - Animation.save using <class 'matplotlib.animation.FFMpegWriter'>\n",
      "2023-07-13 23:11:02,689 - MovieWriter._run: running command: ffmpeg -f rawvideo -vcodec rawvideo -s 800x800 -pix_fmt rgba -r 30 -loglevel error -i pipe: -vcodec h264 -pix_fmt yuv420p -vcodec libx264 -y test_anim.mp4\n"
     ]
    },
    {
     "name": "stdout",
     "output_type": "stream",
     "text": [
      "..2023-07-13 23:11:02,833 - MovieWriter stderr:\n",
      "Unknown encoder 'libx264'\n",
      "\n"
     ]
    },
    {
     "ename": "CalledProcessError",
     "evalue": "Command '['ffmpeg', '-f', 'rawvideo', '-vcodec', 'rawvideo', '-s', '800x800', '-pix_fmt', 'rgba', '-r', '30', '-loglevel', 'error', '-i', 'pipe:', '-vcodec', 'h264', '-pix_fmt', 'yuv420p', '-vcodec', 'libx264', '-y', 'test_anim.mp4']' returned non-zero exit status 1.",
     "output_type": "error",
     "traceback": [
      "\u001b[0;31m---------------------------------------------------------------------------\u001b[0m",
      "\u001b[0;31mBrokenPipeError\u001b[0m                           Traceback (most recent call last)",
      "File \u001b[0;32m~/.conda/envs/myenv/lib/python3.10/site-packages/matplotlib/animation.py:233\u001b[0m, in \u001b[0;36mAbstractMovieWriter.saving\u001b[0;34m(self, fig, outfile, dpi, *args, **kwargs)\u001b[0m\n\u001b[1;32m    232\u001b[0m \u001b[39mtry\u001b[39;00m:\n\u001b[0;32m--> 233\u001b[0m     \u001b[39myield\u001b[39;00m \u001b[39mself\u001b[39m\n\u001b[1;32m    234\u001b[0m \u001b[39mfinally\u001b[39;00m:\n",
      "File \u001b[0;32m~/.conda/envs/myenv/lib/python3.10/site-packages/matplotlib/animation.py:1107\u001b[0m, in \u001b[0;36mAnimation.save\u001b[0;34m(self, filename, writer, fps, dpi, codec, bitrate, extra_args, metadata, extra_anim, savefig_kwargs, progress_callback)\u001b[0m\n\u001b[1;32m   1106\u001b[0m         frame_number \u001b[39m+\u001b[39m\u001b[39m=\u001b[39m \u001b[39m1\u001b[39m\n\u001b[0;32m-> 1107\u001b[0m writer\u001b[39m.\u001b[39;49mgrab_frame(\u001b[39m*\u001b[39;49m\u001b[39m*\u001b[39;49msavefig_kwargs)\n",
      "File \u001b[0;32m~/.conda/envs/myenv/lib/python3.10/site-packages/matplotlib/animation.py:359\u001b[0m, in \u001b[0;36mMovieWriter.grab_frame\u001b[0;34m(self, **savefig_kwargs)\u001b[0m\n\u001b[1;32m    358\u001b[0m \u001b[39m# Save the figure data to the sink, using the frame format and dpi.\u001b[39;00m\n\u001b[0;32m--> 359\u001b[0m \u001b[39mself\u001b[39;49m\u001b[39m.\u001b[39;49mfig\u001b[39m.\u001b[39;49msavefig(\u001b[39mself\u001b[39;49m\u001b[39m.\u001b[39;49m_proc\u001b[39m.\u001b[39;49mstdin, \u001b[39mformat\u001b[39;49m\u001b[39m=\u001b[39;49m\u001b[39mself\u001b[39;49m\u001b[39m.\u001b[39;49mframe_format,\n\u001b[1;32m    360\u001b[0m                  dpi\u001b[39m=\u001b[39;49m\u001b[39mself\u001b[39;49m\u001b[39m.\u001b[39;49mdpi, \u001b[39m*\u001b[39;49m\u001b[39m*\u001b[39;49msavefig_kwargs)\n",
      "File \u001b[0;32m~/.conda/envs/myenv/lib/python3.10/site-packages/matplotlib/figure.py:3343\u001b[0m, in \u001b[0;36mFigure.savefig\u001b[0;34m(self, fname, transparent, **kwargs)\u001b[0m\n\u001b[1;32m   3340\u001b[0m         stack\u001b[39m.\u001b[39menter_context(\n\u001b[1;32m   3341\u001b[0m             ax\u001b[39m.\u001b[39mpatch\u001b[39m.\u001b[39m_cm_set(facecolor\u001b[39m=\u001b[39m\u001b[39m'\u001b[39m\u001b[39mnone\u001b[39m\u001b[39m'\u001b[39m, edgecolor\u001b[39m=\u001b[39m\u001b[39m'\u001b[39m\u001b[39mnone\u001b[39m\u001b[39m'\u001b[39m))\n\u001b[0;32m-> 3343\u001b[0m \u001b[39mself\u001b[39;49m\u001b[39m.\u001b[39;49mcanvas\u001b[39m.\u001b[39;49mprint_figure(fname, \u001b[39m*\u001b[39;49m\u001b[39m*\u001b[39;49mkwargs)\n",
      "File \u001b[0;32m~/.conda/envs/myenv/lib/python3.10/site-packages/matplotlib/backend_bases.py:2366\u001b[0m, in \u001b[0;36mFigureCanvasBase.print_figure\u001b[0;34m(self, filename, dpi, facecolor, edgecolor, orientation, format, bbox_inches, pad_inches, bbox_extra_artists, backend, **kwargs)\u001b[0m\n\u001b[1;32m   2365\u001b[0m     \u001b[39mwith\u001b[39;00m cbook\u001b[39m.\u001b[39m_setattr_cm(\u001b[39mself\u001b[39m\u001b[39m.\u001b[39mfigure, dpi\u001b[39m=\u001b[39mdpi):\n\u001b[0;32m-> 2366\u001b[0m         result \u001b[39m=\u001b[39m print_method(\n\u001b[1;32m   2367\u001b[0m             filename,\n\u001b[1;32m   2368\u001b[0m             facecolor\u001b[39m=\u001b[39;49mfacecolor,\n\u001b[1;32m   2369\u001b[0m             edgecolor\u001b[39m=\u001b[39;49medgecolor,\n\u001b[1;32m   2370\u001b[0m             orientation\u001b[39m=\u001b[39;49morientation,\n\u001b[1;32m   2371\u001b[0m             bbox_inches_restore\u001b[39m=\u001b[39;49m_bbox_inches_restore,\n\u001b[1;32m   2372\u001b[0m             \u001b[39m*\u001b[39;49m\u001b[39m*\u001b[39;49mkwargs)\n\u001b[1;32m   2373\u001b[0m \u001b[39mfinally\u001b[39;00m:\n",
      "File \u001b[0;32m~/.conda/envs/myenv/lib/python3.10/site-packages/matplotlib/backend_bases.py:2232\u001b[0m, in \u001b[0;36mFigureCanvasBase._switch_canvas_and_return_print_method.<locals>.<lambda>\u001b[0;34m(*args, **kwargs)\u001b[0m\n\u001b[1;32m   2231\u001b[0m     skip \u001b[39m=\u001b[39m optional_kws \u001b[39m-\u001b[39m {\u001b[39m*\u001b[39minspect\u001b[39m.\u001b[39msignature(meth)\u001b[39m.\u001b[39mparameters}\n\u001b[0;32m-> 2232\u001b[0m     print_method \u001b[39m=\u001b[39m functools\u001b[39m.\u001b[39mwraps(meth)(\u001b[39mlambda\u001b[39;00m \u001b[39m*\u001b[39margs, \u001b[39m*\u001b[39m\u001b[39m*\u001b[39mkwargs: meth(\n\u001b[1;32m   2233\u001b[0m         \u001b[39m*\u001b[39;49margs, \u001b[39m*\u001b[39;49m\u001b[39m*\u001b[39;49m{k: v \u001b[39mfor\u001b[39;49;00m k, v \u001b[39min\u001b[39;49;00m kwargs\u001b[39m.\u001b[39;49mitems() \u001b[39mif\u001b[39;49;00m k \u001b[39mnot\u001b[39;49;00m \u001b[39min\u001b[39;49;00m skip}))\n\u001b[1;32m   2234\u001b[0m \u001b[39melse\u001b[39;00m:  \u001b[39m# Let third-parties do as they see fit.\u001b[39;00m\n",
      "File \u001b[0;32m~/.conda/envs/myenv/lib/python3.10/site-packages/matplotlib/backends/backend_agg.py:448\u001b[0m, in \u001b[0;36mFigureCanvasAgg.print_raw\u001b[0;34m(self, filename_or_obj)\u001b[0m\n\u001b[1;32m    447\u001b[0m \u001b[39mwith\u001b[39;00m cbook\u001b[39m.\u001b[39mopen_file_cm(filename_or_obj, \u001b[39m\"\u001b[39m\u001b[39mwb\u001b[39m\u001b[39m\"\u001b[39m) \u001b[39mas\u001b[39;00m fh:\n\u001b[0;32m--> 448\u001b[0m     fh\u001b[39m.\u001b[39;49mwrite(renderer\u001b[39m.\u001b[39;49mbuffer_rgba())\n",
      "\u001b[0;31mBrokenPipeError\u001b[0m: [Errno 32] Broken pipe",
      "\nDuring handling of the above exception, another exception occurred:\n",
      "\u001b[0;31mCalledProcessError\u001b[0m                        Traceback (most recent call last)",
      "Cell \u001b[0;32mIn[100], line 34\u001b[0m\n\u001b[1;32m     25\u001b[0m     \u001b[39mreturn\u001b[39;00m [im]\n\u001b[1;32m     27\u001b[0m anim \u001b[39m=\u001b[39m animation\u001b[39m.\u001b[39mFuncAnimation(\n\u001b[1;32m     28\u001b[0m                                fig, \n\u001b[1;32m     29\u001b[0m                                animate_func, \n\u001b[1;32m     30\u001b[0m                                frames \u001b[39m=\u001b[39m nSeconds \u001b[39m*\u001b[39m fps,\n\u001b[1;32m     31\u001b[0m                                interval \u001b[39m=\u001b[39m \u001b[39m1000\u001b[39m \u001b[39m/\u001b[39m fps, \u001b[39m# in ms\u001b[39;00m\n\u001b[1;32m     32\u001b[0m                                )\n\u001b[0;32m---> 34\u001b[0m anim\u001b[39m.\u001b[39;49msave(\u001b[39m'\u001b[39;49m\u001b[39mtest_anim.mp4\u001b[39;49m\u001b[39m'\u001b[39;49m, fps\u001b[39m=\u001b[39;49mfps, extra_args\u001b[39m=\u001b[39;49m[\u001b[39m'\u001b[39;49m\u001b[39m-vcodec\u001b[39;49m\u001b[39m'\u001b[39;49m, \u001b[39m'\u001b[39;49m\u001b[39mlibx264\u001b[39;49m\u001b[39m'\u001b[39;49m])\n\u001b[1;32m     36\u001b[0m \u001b[39mprint\u001b[39m(\u001b[39m'\u001b[39m\u001b[39mDone!\u001b[39m\u001b[39m'\u001b[39m)\n\u001b[1;32m     38\u001b[0m \u001b[39m# plt.show()  # Not required, it seems!\u001b[39;00m\n",
      "File \u001b[0;32m~/.conda/envs/myenv/lib/python3.10/site-packages/matplotlib/animation.py:1085\u001b[0m, in \u001b[0;36mAnimation.save\u001b[0;34m(self, filename, writer, fps, dpi, codec, bitrate, extra_args, metadata, extra_anim, savefig_kwargs, progress_callback)\u001b[0m\n\u001b[1;32m   1081\u001b[0m savefig_kwargs[\u001b[39m'\u001b[39m\u001b[39mtransparent\u001b[39m\u001b[39m'\u001b[39m] \u001b[39m=\u001b[39m \u001b[39mFalse\u001b[39;00m   \u001b[39m# just to be safe!\u001b[39;00m\n\u001b[1;32m   1082\u001b[0m \u001b[39m# canvas._is_saving = True makes the draw_event animation-starting\u001b[39;00m\n\u001b[1;32m   1083\u001b[0m \u001b[39m# callback a no-op; canvas.manager = None prevents resizing the GUI\u001b[39;00m\n\u001b[1;32m   1084\u001b[0m \u001b[39m# widget (both are likewise done in savefig()).\u001b[39;00m\n\u001b[0;32m-> 1085\u001b[0m \u001b[39mwith\u001b[39;00m mpl\u001b[39m.\u001b[39mrc_context({\u001b[39m'\u001b[39m\u001b[39msavefig.bbox\u001b[39m\u001b[39m'\u001b[39m: \u001b[39mNone\u001b[39;00m}), \\\n\u001b[1;32m   1086\u001b[0m      writer\u001b[39m.\u001b[39msaving(\u001b[39mself\u001b[39m\u001b[39m.\u001b[39m_fig, filename, dpi), \\\n\u001b[1;32m   1087\u001b[0m      cbook\u001b[39m.\u001b[39m_setattr_cm(\u001b[39mself\u001b[39m\u001b[39m.\u001b[39m_fig\u001b[39m.\u001b[39mcanvas,\n\u001b[1;32m   1088\u001b[0m                        _is_saving\u001b[39m=\u001b[39m\u001b[39mTrue\u001b[39;00m, manager\u001b[39m=\u001b[39m\u001b[39mNone\u001b[39;00m):\n\u001b[1;32m   1089\u001b[0m     \u001b[39mfor\u001b[39;00m anim \u001b[39min\u001b[39;00m all_anim:\n\u001b[1;32m   1090\u001b[0m         anim\u001b[39m.\u001b[39m_init_draw()  \u001b[39m# Clear the initial frame\u001b[39;00m\n",
      "File \u001b[0;32m~/.conda/envs/myenv/lib/python3.10/contextlib.py:153\u001b[0m, in \u001b[0;36m_GeneratorContextManager.__exit__\u001b[0;34m(self, typ, value, traceback)\u001b[0m\n\u001b[1;32m    151\u001b[0m     value \u001b[39m=\u001b[39m typ()\n\u001b[1;32m    152\u001b[0m \u001b[39mtry\u001b[39;00m:\n\u001b[0;32m--> 153\u001b[0m     \u001b[39mself\u001b[39;49m\u001b[39m.\u001b[39;49mgen\u001b[39m.\u001b[39;49mthrow(typ, value, traceback)\n\u001b[1;32m    154\u001b[0m \u001b[39mexcept\u001b[39;00m \u001b[39mStopIteration\u001b[39;00m \u001b[39mas\u001b[39;00m exc:\n\u001b[1;32m    155\u001b[0m     \u001b[39m# Suppress StopIteration *unless* it's the same exception that\u001b[39;00m\n\u001b[1;32m    156\u001b[0m     \u001b[39m# was passed to throw().  This prevents a StopIteration\u001b[39;00m\n\u001b[1;32m    157\u001b[0m     \u001b[39m# raised inside the \"with\" statement from being suppressed.\u001b[39;00m\n\u001b[1;32m    158\u001b[0m     \u001b[39mreturn\u001b[39;00m exc \u001b[39mis\u001b[39;00m \u001b[39mnot\u001b[39;00m value\n",
      "File \u001b[0;32m~/.conda/envs/myenv/lib/python3.10/site-packages/matplotlib/animation.py:235\u001b[0m, in \u001b[0;36mAbstractMovieWriter.saving\u001b[0;34m(self, fig, outfile, dpi, *args, **kwargs)\u001b[0m\n\u001b[1;32m    233\u001b[0m     \u001b[39myield\u001b[39;00m \u001b[39mself\u001b[39m\n\u001b[1;32m    234\u001b[0m \u001b[39mfinally\u001b[39;00m:\n\u001b[0;32m--> 235\u001b[0m     \u001b[39mself\u001b[39;49m\u001b[39m.\u001b[39;49mfinish()\n",
      "File \u001b[0;32m~/.conda/envs/myenv/lib/python3.10/site-packages/matplotlib/animation.py:349\u001b[0m, in \u001b[0;36mMovieWriter.finish\u001b[0;34m(self)\u001b[0m\n\u001b[1;32m    345\u001b[0m     _log\u001b[39m.\u001b[39mlog(\n\u001b[1;32m    346\u001b[0m         logging\u001b[39m.\u001b[39mWARNING \u001b[39mif\u001b[39;00m \u001b[39mself\u001b[39m\u001b[39m.\u001b[39m_proc\u001b[39m.\u001b[39mreturncode \u001b[39melse\u001b[39;00m logging\u001b[39m.\u001b[39mDEBUG,\n\u001b[1;32m    347\u001b[0m         \u001b[39m\"\u001b[39m\u001b[39mMovieWriter stderr:\u001b[39m\u001b[39m\\n\u001b[39;00m\u001b[39m%s\u001b[39;00m\u001b[39m\"\u001b[39m, err)\n\u001b[1;32m    348\u001b[0m \u001b[39mif\u001b[39;00m \u001b[39mself\u001b[39m\u001b[39m.\u001b[39m_proc\u001b[39m.\u001b[39mreturncode:\n\u001b[0;32m--> 349\u001b[0m     \u001b[39mraise\u001b[39;00m subprocess\u001b[39m.\u001b[39mCalledProcessError(\n\u001b[1;32m    350\u001b[0m         \u001b[39mself\u001b[39m\u001b[39m.\u001b[39m_proc\u001b[39m.\u001b[39mreturncode, \u001b[39mself\u001b[39m\u001b[39m.\u001b[39m_proc\u001b[39m.\u001b[39margs, out, err)\n",
      "\u001b[0;31mCalledProcessError\u001b[0m: Command '['ffmpeg', '-f', 'rawvideo', '-vcodec', 'rawvideo', '-s', '800x800', '-pix_fmt', 'rgba', '-r', '30', '-loglevel', 'error', '-i', 'pipe:', '-vcodec', 'h264', '-pix_fmt', 'yuv420p', '-vcodec', 'libx264', '-y', 'test_anim.mp4']' returned non-zero exit status 1."
     ]
    },
    {
     "name": "stdout",
     "output_type": "stream",
     "text": [
      "."
     ]
    },
    {
     "data": {
      "image/png": "[encoded data removed]",
      "text/plain": [
       "<Figure size 800x800 with 1 Axes>"
      ]
     },
     "metadata": {},
     "output_type": "display_data"
    }
   ],
   "source": [
    "import random\n",
    "import numpy as np\n",
    "\n",
    "import matplotlib\n",
    "import matplotlib.pyplot as plt\n",
    "\n",
    "import matplotlib.animation as animation\n",
    "\n",
    "\n",
    "fps = 30\n",
    "nSeconds = 5\n",
    "snapshots = [ imposed_img for _ in range( nSeconds * fps ) ]\n",
    "\n",
    "# First set up the figure, the axis, and the plot element we want to animate\n",
    "fig = plt.figure( figsize=(8,8) )\n",
    "\n",
    "a = imposed_img[0]\n",
    "im = plt.imshow(a, interpolation='none', aspect='auto', vmin=0, vmax=1)\n",
    "\n",
    "def animate_func(i):\n",
    "    if i % fps == 0:\n",
    "        print( '.', end ='' )\n",
    "\n",
    "    im.set_array(imposed_img[i])\n",
    "    return [im]\n",
    "\n",
    "anim = animation.FuncAnimation(\n",
    "                               fig, \n",
    "                               animate_func, \n",
    "                               frames = nSeconds * fps,\n",
    "                               interval = 1000 / fps, # in ms\n",
    "                               )\n",
    "\n",
    "anim.save('test_anim.mp4', fps=fps, extra_args=['-vcodec', 'libx264'])\n",
    "\n",
    "print('Done!')\n",
    "\n",
    "# plt.show()  # Not required, it seems!"
   ]
  },
  {
   "cell_type": "code",
   "execution_count": 101,
   "metadata": {},
   "outputs": [],
   "source": [
    "from matplotlib import animation, rc"
   ]
  },
  {
   "cell_type": "code",
   "execution_count": 102,
   "metadata": {},
   "outputs": [],
   "source": [
    "rc('animation', html='jshtml')\n",
    "\n",
    "\n",
    "def create_animation(array):\n",
    "    \"\"\"Create an animation of a volume\"\"\"\n",
    "    \n",
    "\n",
    "    fig = plt.figure(figsize=(4, 4))\n",
    "    images = []\n",
    "    for idx, image in enumerate(array):\n",
    "        # plot image without notifying animation\n",
    "        image_plot = plt.imshow(image, animated=True, cmap='bone')\n",
    "        aux = [image_plot]\n",
    "        images.append(aux)\n",
    "\n",
    "    plt.axis('off')\n",
    "    plt.tight_layout()\n",
    "    plt.subplots_adjust(top=0.90)\n",
    "    plt.title(f'Deneme', fontsize=16)\n",
    "    ani = animation.ArtistAnimation(\n",
    "        fig, images, interval=5000//len(array), blit=False, repeat_delay=1000)\n",
    "    plt.close()\n",
    "    return ani"
   ]
  },
  {
   "cell_type": "code",
   "execution_count": 103,
   "metadata": {},
   "outputs": [
    {
     "ename": "ValueError",
     "evalue": "axes don't match array",
     "output_type": "error",
     "traceback": [
      "\u001b[0;31m---------------------------------------------------------------------------\u001b[0m",
      "\u001b[0;31mValueError\u001b[0m                                Traceback (most recent call last)",
      "Cell \u001b[0;32mIn[103], line 1\u001b[0m\n\u001b[0;32m----> 1\u001b[0m create_animation(imposed_img)\n",
      "Cell \u001b[0;32mIn[102], line 6\u001b[0m, in \u001b[0;36mcreate_animation\u001b[0;34m(array)\u001b[0m\n\u001b[1;32m      4\u001b[0m \u001b[39mdef\u001b[39;00m \u001b[39mcreate_animation\u001b[39m(array):\n\u001b[1;32m      5\u001b[0m \u001b[39m    \u001b[39m\u001b[39m\"\"\"Create an animation of a volume\"\"\"\u001b[39;00m\n\u001b[0;32m----> 6\u001b[0m     array \u001b[39m=\u001b[39m np\u001b[39m.\u001b[39;49mtranspose(array, (\u001b[39m2\u001b[39;49m, \u001b[39m0\u001b[39;49m, \u001b[39m1\u001b[39;49m))\n\u001b[1;32m      8\u001b[0m     fig \u001b[39m=\u001b[39m plt\u001b[39m.\u001b[39mfigure(figsize\u001b[39m=\u001b[39m(\u001b[39m4\u001b[39m, \u001b[39m4\u001b[39m))\n\u001b[1;32m      9\u001b[0m     images \u001b[39m=\u001b[39m []\n",
      "File \u001b[0;32m<__array_function__ internals>:200\u001b[0m, in \u001b[0;36mtranspose\u001b[0;34m(*args, **kwargs)\u001b[0m\n",
      "File \u001b[0;32m~/.conda/envs/myenv/lib/python3.10/site-packages/numpy/core/fromnumeric.py:668\u001b[0m, in \u001b[0;36mtranspose\u001b[0;34m(a, axes)\u001b[0m\n\u001b[1;32m    601\u001b[0m \u001b[39m@array_function_dispatch\u001b[39m(_transpose_dispatcher)\n\u001b[1;32m    602\u001b[0m \u001b[39mdef\u001b[39;00m \u001b[39mtranspose\u001b[39m(a, axes\u001b[39m=\u001b[39m\u001b[39mNone\u001b[39;00m):\n\u001b[1;32m    603\u001b[0m \u001b[39m    \u001b[39m\u001b[39m\"\"\"\u001b[39;00m\n\u001b[1;32m    604\u001b[0m \u001b[39m    Returns an array with axes transposed.\u001b[39;00m\n\u001b[1;32m    605\u001b[0m \n\u001b[0;32m   (...)\u001b[0m\n\u001b[1;32m    666\u001b[0m \n\u001b[1;32m    667\u001b[0m \u001b[39m    \"\"\"\u001b[39;00m\n\u001b[0;32m--> 668\u001b[0m     \u001b[39mreturn\u001b[39;00m _wrapfunc(a, \u001b[39m'\u001b[39;49m\u001b[39mtranspose\u001b[39;49m\u001b[39m'\u001b[39;49m, axes)\n",
      "File \u001b[0;32m~/.conda/envs/myenv/lib/python3.10/site-packages/numpy/core/fromnumeric.py:54\u001b[0m, in \u001b[0;36m_wrapfunc\u001b[0;34m(obj, method, *args, **kwds)\u001b[0m\n\u001b[1;32m     52\u001b[0m bound \u001b[39m=\u001b[39m \u001b[39mgetattr\u001b[39m(obj, method, \u001b[39mNone\u001b[39;00m)\n\u001b[1;32m     53\u001b[0m \u001b[39mif\u001b[39;00m bound \u001b[39mis\u001b[39;00m \u001b[39mNone\u001b[39;00m:\n\u001b[0;32m---> 54\u001b[0m     \u001b[39mreturn\u001b[39;00m _wrapit(obj, method, \u001b[39m*\u001b[39;49margs, \u001b[39m*\u001b[39;49m\u001b[39m*\u001b[39;49mkwds)\n\u001b[1;32m     56\u001b[0m \u001b[39mtry\u001b[39;00m:\n\u001b[1;32m     57\u001b[0m     \u001b[39mreturn\u001b[39;00m bound(\u001b[39m*\u001b[39margs, \u001b[39m*\u001b[39m\u001b[39m*\u001b[39mkwds)\n",
      "File \u001b[0;32m~/.conda/envs/myenv/lib/python3.10/site-packages/numpy/core/fromnumeric.py:43\u001b[0m, in \u001b[0;36m_wrapit\u001b[0;34m(obj, method, *args, **kwds)\u001b[0m\n\u001b[1;32m     41\u001b[0m \u001b[39mexcept\u001b[39;00m \u001b[39mAttributeError\u001b[39;00m:\n\u001b[1;32m     42\u001b[0m     wrap \u001b[39m=\u001b[39m \u001b[39mNone\u001b[39;00m\n\u001b[0;32m---> 43\u001b[0m result \u001b[39m=\u001b[39m \u001b[39mgetattr\u001b[39;49m(asarray(obj), method)(\u001b[39m*\u001b[39;49margs, \u001b[39m*\u001b[39;49m\u001b[39m*\u001b[39;49mkwds)\n\u001b[1;32m     44\u001b[0m \u001b[39mif\u001b[39;00m wrap:\n\u001b[1;32m     45\u001b[0m     \u001b[39mif\u001b[39;00m \u001b[39mnot\u001b[39;00m \u001b[39misinstance\u001b[39m(result, mu\u001b[39m.\u001b[39mndarray):\n",
      "\u001b[0;31mValueError\u001b[0m: axes don't match array"
     ]
    }
   ],
   "source": [
    "create_animation(imposed_img)"
   ]
  }
 ],
 "metadata": {
  "kernelspec": {
   "display_name": "myenv",
   "language": "python",
   "name": "python3"
  },
  "language_info": {
   "codemirror_mode": {
    "name": "ipython",
    "version": 3
   },
   "file_extension": ".py",
   "mimetype": "text/x-python",
   "name": "python",
   "nbconvert_exporter": "python",
   "pygments_lexer": "ipython3",
   "version": "3.10.11"
  },
  "orig_nbformat": 4
 },
 "nbformat": 4,
 "nbformat_minor": 2
}
