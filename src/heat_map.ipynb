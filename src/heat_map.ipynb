{
 "cells": [
  {
   "cell_type": "code",
   "execution_count": 1,
   "metadata": {},
   "outputs": [],
   "source": [
    "import os, sys\n",
    "import torch\n",
    "import argparse"
   ]
  },
  {
   "cell_type": "code",
   "execution_count": 2,
   "metadata": {},
   "outputs": [],
   "source": [
    "#!export PYTHONPATH=$PYTHONPATH:/data1/practical-sose23/castellvi/castellvi_prediction/bids\n",
    "sys.path.append('/data1/practical-sose23/castellvi/castellvi_prediction/bids')"
   ]
  },
  {
   "cell_type": "code",
   "execution_count": 17,
   "metadata": {},
   "outputs": [],
   "source": [
    "import pytorch_lightning as pl\n",
    "from pytorch_lightning.callbacks import ModelCheckpoint\n",
    "from utils._prepare_data import DataHandler\n",
    "from modules.ResNetModule import ResNet\n",
    "from modules.VerSeDataModule import VerSeDataModule\n",
    "from modules.DenseNetModule import DenseNet\n",
    "from modules.DenseNetModule_v2 import DenseNetV2\n",
    "from utils.environment_settings import env_settings\n",
    "import torch\n",
    "from torch import nn"
   ]
  },
  {
   "cell_type": "code",
   "execution_count": 7,
   "metadata": {},
   "outputs": [
    {
     "name": "stdout",
     "output_type": "stream",
     "text": [
      "Running on GPU #0\n"
     ]
    }
   ],
   "source": [
    "os.environ[\"CUDA_VISIBLE_DEVICES\"] = str(env_settings.CUDA_VISIBLE_DEVICES)\n",
    "if torch.cuda.is_available():\n",
    "    print('Running on GPU #' + str(torch.cuda.current_device()))"
   ]
  },
  {
   "cell_type": "code",
   "execution_count": 12,
   "metadata": {},
   "outputs": [],
   "source": [
    "parser = argparse.ArgumentParser(description='Evaluation settings')\n",
    "\n",
    "parser = argparse.ArgumentParser(description='Evaluation settings')\n",
    "parser.add_argument('--data_root', nargs='+', default=[str(os.path.join(env_settings.DATA, 'dataset-verse19')),\n",
    "                                                        str(os.path.join(env_settings.DATA, 'dataset-verse20')),\n",
    "                                                        str(os.path.join(env_settings.DATA, 'dataset-tri'))])\n",
    "parser.add_argument('--data_types', nargs='+', default=['rawdata', 'derivatives'])\n",
    "parser.add_argument('--img_types', nargs='+', default=['ct', 'subreg', 'cortex'])\n",
    "parser.add_argument('--master_list', default= str(os.path.join(env_settings.ROOT, 'src/dataset/Castellvi_list_Final_Split.xlsx')))\n",
    "parser.add_argument('--classification_type', default='right_side')\n",
    "parser.add_argument('--castellvi_classes', nargs='+', default=['1a', '1b', '2a', '2b', '3a', '3b', '4', '0'])\n",
    "parser.add_argument('--model', default='densenet')\n",
    "parser.add_argument('--phase', default='train')\n",
    "parser.add_argument('--scheduler', default='ReduceLROnPlateau')\n",
    "parser.add_argument('--optimizer', default='AdamW')\n",
    "parser.add_argument('--learning_rate', type=float, default=0.0001)\n",
    "parser.add_argument('--weight_decay', type=float, default=0.0001)\n",
    "parser.add_argument('--total_iterations', type=int, default=100)\n",
    "parser.add_argument('--batch_size', type=int, default=8)\n",
    "parser.add_argument('--accumulate_grad_batches', type=int, default=1)\n",
    "parser.add_argument('--num_workers', type=int, default=8)\n",
    "parser.add_argument('--save_intervals', type=int, default=10)\n",
    "parser.add_argument('--n_epochs', type=int, default=100)\n",
    "parser.add_argument('--resume_path', default='')\n",
    "parser.add_argument('--experiments', default=env_settings.EXPERIMENTS)\n",
    "parser.add_argument('--gpu_id', default='0')\n",
    "parser.add_argument('--n_devices', type=int, default=1)\n",
    "parser.add_argument('--manual_seed', type=int, default=1)\n",
    "parser.add_argument('--num_classes', type=int, default=3)\n",
    "parser.add_argument('--port', type=int, default=2023)\n",
    "parser.add_argument('--model_type', type=str, default='')\n",
    "parser.add_argument('--dropout_prob', type=float, default=0.3)\n",
    "\n",
    "\n",
    "parser.add_argument('--rotate_range', type=int, default=10)\n",
    "parser.add_argument('--shear_range', type=float, default=0.2)\n",
    "parser.add_argument('--translate_range', type=float, default=0.15)\n",
    "parser.add_argument('--scale_range', nargs='+', default=[0.9, 1.1])\n",
    "parser.add_argument('--aug_prob', type=float, default=0.5)\n",
    "\n",
    "parser.add_argument('--use_seg', default=True)\n",
    "parser.add_argument('--no_cuda', default=False)\n",
    "parser.add_argument('--weighted_sample', default=True)\n",
    "parser.add_argument('--weighted_loss', default=False)\n",
    "parser.add_argument('--flip_all', default=True)\n",
    "parser.add_argument('--cross_validation',default=False)\n",
    "parser.add_argument('--use_bin_seg', default=True)\n",
    "parser.add_argument('--use_zero_out',default=True)\n",
    "\n",
    "parser.add_argument('--elastic_transform', default=True)\n",
    "parser.add_argument('--seg_comparison', default=False)\n",
    "\n",
    "parser.add_argument('--version_no', type=int, default=10)\n",
    "parser.add_argument('--dataset', nargs='+', default=['verse', 'tri'])\n",
    "parser.add_argument('--eval_type', type=str, default='test')\n",
    "\n",
    "params, unknown = parser.parse_known_args()\n"
   ]
  },
  {
   "cell_type": "code",
   "execution_count": 23,
   "metadata": {},
   "outputs": [],
   "source": [
    "base_experiment = params.experiments + '/baseline_models/' + params.model\n",
    "ckpt_path = base_experiment + '/best_models/version_' + str(params.version_no)\n",
    "best_model= os.listdir(ckpt_path)[0]\n",
    "best_model_path = os.path.join(ckpt_path, best_model)"
   ]
  },
  {
   "cell_type": "code",
   "execution_count": 24,
   "metadata": {},
   "outputs": [],
   "source": [
    "data_size = (96,78,78) if (params.classification_type == \"right_side\" or params.classification_type == \"right_side_binary\") else (128,86,136)\n",
    "num_classes = params.num_classes\n",
    "softmax = nn.Softmax(dim=1)\n",
    "device = torch.device(\"cuda\" if torch.cuda.is_available() else \"cpu\")"
   ]
  },
  {
   "cell_type": "code",
   "execution_count": 28,
   "metadata": {},
   "outputs": [],
   "source": [
    "def initialize_model(params):\n",
    "    if params.model == 'densenet':\n",
    "        model = DenseNet(opt=params, num_classes=params.num_classes, data_size=data_size, data_channel=1)\n",
    "    elif params.model == 'resnet' or params.model == 'resnetc':\n",
    "        model = ResNet(opt=params, num_classes=num_classes)\n",
    "    else:\n",
    "        raise NotImplementedError(\"Model not recognized. Implement the model initialization.\")\n",
    "    return model"
   ]
  },
  {
   "cell_type": "code",
   "execution_count": 29,
   "metadata": {},
   "outputs": [],
   "source": [
    "def load_model(path, params):\n",
    "    model = initialize_model(params)\n",
    "    model.load_state_dict(torch.load(path)['state_dict'])\n",
    "    model.to(device)\n",
    "    model.eval()\n",
    "    return model"
   ]
  },
  {
   "cell_type": "code",
   "execution_count": 30,
   "metadata": {},
   "outputs": [
    {
     "name": "stdout",
     "output_type": "stream",
     "text": [
      "DenseNet loaded with 3 classes, data_size (96, 78, 78) and 1 channel\n"
     ]
    }
   ],
   "source": [
    "model = load_model(best_model_path, params)"
   ]
  },
  {
   "cell_type": "code",
   "execution_count": null,
   "metadata": {},
   "outputs": [],
   "source": []
  }
 ],
 "metadata": {
  "kernelspec": {
   "display_name": "env-arda",
   "language": "python",
   "name": "env-arda"
  },
  "language_info": {
   "codemirror_mode": {
    "name": "ipython",
    "version": 3
   },
   "file_extension": ".py",
   "mimetype": "text/x-python",
   "name": "python",
   "nbconvert_exporter": "python",
   "pygments_lexer": "ipython3",
   "version": "3.10.11"
  },
  "orig_nbformat": 4
 },
 "nbformat": 4,
 "nbformat_minor": 2
}
